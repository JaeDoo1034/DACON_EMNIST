{
  "nbformat": 4,
  "nbformat_minor": 0,
  "metadata": {
    "colab": {
      "name": "딥러닝 공부",
      "provenance": [],
      "authorship_tag": "ABX9TyPznPE90PqohNFEnXh6QIKW",
      "include_colab_link": true
    },
    "kernelspec": {
      "name": "python3",
      "display_name": "Python 3"
    },
    "accelerator": "GPU"
  },
  "cells": [
    {
      "cell_type": "markdown",
      "metadata": {
        "id": "view-in-github",
        "colab_type": "text"
      },
      "source": [
        "<a href=\"https://colab.research.google.com/github/JaeDoo1034/DACON_EMNIST/blob/master/%EB%94%A5%EB%9F%AC%EB%8B%9D_%EA%B3%B5%EB%B6%80.ipynb\" target=\"_parent\"><img src=\"https://colab.research.google.com/assets/colab-badge.svg\" alt=\"Open In Colab\"/></a>"
      ]
    },
    {
      "cell_type": "markdown",
      "metadata": {
        "id": "rWsDgLkpK-_D",
        "colab_type": "text"
      },
      "source": [
        "**영화 리뷰 분류 : 이진 분류 예제**"
      ]
    },
    {
      "cell_type": "code",
      "metadata": {
        "id": "tpS8c3w3KuhU",
        "colab_type": "code",
        "colab": {}
      },
      "source": [
        "import tensorflow as tf"
      ],
      "execution_count": null,
      "outputs": []
    },
    {
      "cell_type": "code",
      "metadata": {
        "id": "4lcjcHXQLHKn",
        "colab_type": "code",
        "colab": {}
      },
      "source": [
        "from tensorflow.keras.datasets import imdb"
      ],
      "execution_count": null,
      "outputs": []
    },
    {
      "cell_type": "code",
      "metadata": {
        "id": "eea0pYQ5LMqZ",
        "colab_type": "code",
        "colab": {
          "base_uri": "https://localhost:8080/",
          "height": 52
        },
        "outputId": "dc0d6200-3ce3-4acf-f97d-b10548b6bf9d"
      },
      "source": [
        "(train_data, train_labels), (test_data, test_labels) = imdb.load_data(num_words = 10000)\n",
        "# num_words = 10000 : 훈련 데이터에서 가장 자주 나타나는 단어 1만개 사용하겠다.\n",
        "# label 설명 : 부정을 나타내는 0, 긍정을 나타내는 1"
      ],
      "execution_count": null,
      "outputs": [
        {
          "output_type": "stream",
          "text": [
            "Downloading data from https://storage.googleapis.com/tensorflow/tf-keras-datasets/imdb.npz\n",
            "17465344/17464789 [==============================] - 0s 0us/step\n"
          ],
          "name": "stdout"
        }
      ]
    },
    {
      "cell_type": "code",
      "metadata": {
        "id": "XoKqIyZoLUDo",
        "colab_type": "code",
        "colab": {
          "base_uri": "https://localhost:8080/",
          "height": 34
        },
        "outputId": "07e0a8f5-977c-4b04-e618-5af28a1ab7de"
      },
      "source": [
        "train_data.shape"
      ],
      "execution_count": null,
      "outputs": [
        {
          "output_type": "execute_result",
          "data": {
            "text/plain": [
              "(25000,)"
            ]
          },
          "metadata": {
            "tags": []
          },
          "execution_count": 6
        }
      ]
    },
    {
      "cell_type": "code",
      "metadata": {
        "id": "Dbklv4wjL2k3",
        "colab_type": "code",
        "colab": {
          "base_uri": "https://localhost:8080/",
          "height": 1000
        },
        "outputId": "b047ce88-d433-4485-85ed-387bd6cd53e9"
      },
      "source": [
        "train_data[0]"
      ],
      "execution_count": null,
      "outputs": [
        {
          "output_type": "execute_result",
          "data": {
            "text/plain": [
              "[1,\n",
              " 14,\n",
              " 22,\n",
              " 16,\n",
              " 43,\n",
              " 530,\n",
              " 973,\n",
              " 1622,\n",
              " 1385,\n",
              " 65,\n",
              " 458,\n",
              " 4468,\n",
              " 66,\n",
              " 3941,\n",
              " 4,\n",
              " 173,\n",
              " 36,\n",
              " 256,\n",
              " 5,\n",
              " 25,\n",
              " 100,\n",
              " 43,\n",
              " 838,\n",
              " 112,\n",
              " 50,\n",
              " 670,\n",
              " 2,\n",
              " 9,\n",
              " 35,\n",
              " 480,\n",
              " 284,\n",
              " 5,\n",
              " 150,\n",
              " 4,\n",
              " 172,\n",
              " 112,\n",
              " 167,\n",
              " 2,\n",
              " 336,\n",
              " 385,\n",
              " 39,\n",
              " 4,\n",
              " 172,\n",
              " 4536,\n",
              " 1111,\n",
              " 17,\n",
              " 546,\n",
              " 38,\n",
              " 13,\n",
              " 447,\n",
              " 4,\n",
              " 192,\n",
              " 50,\n",
              " 16,\n",
              " 6,\n",
              " 147,\n",
              " 2025,\n",
              " 19,\n",
              " 14,\n",
              " 22,\n",
              " 4,\n",
              " 1920,\n",
              " 4613,\n",
              " 469,\n",
              " 4,\n",
              " 22,\n",
              " 71,\n",
              " 87,\n",
              " 12,\n",
              " 16,\n",
              " 43,\n",
              " 530,\n",
              " 38,\n",
              " 76,\n",
              " 15,\n",
              " 13,\n",
              " 1247,\n",
              " 4,\n",
              " 22,\n",
              " 17,\n",
              " 515,\n",
              " 17,\n",
              " 12,\n",
              " 16,\n",
              " 626,\n",
              " 18,\n",
              " 2,\n",
              " 5,\n",
              " 62,\n",
              " 386,\n",
              " 12,\n",
              " 8,\n",
              " 316,\n",
              " 8,\n",
              " 106,\n",
              " 5,\n",
              " 4,\n",
              " 2223,\n",
              " 5244,\n",
              " 16,\n",
              " 480,\n",
              " 66,\n",
              " 3785,\n",
              " 33,\n",
              " 4,\n",
              " 130,\n",
              " 12,\n",
              " 16,\n",
              " 38,\n",
              " 619,\n",
              " 5,\n",
              " 25,\n",
              " 124,\n",
              " 51,\n",
              " 36,\n",
              " 135,\n",
              " 48,\n",
              " 25,\n",
              " 1415,\n",
              " 33,\n",
              " 6,\n",
              " 22,\n",
              " 12,\n",
              " 215,\n",
              " 28,\n",
              " 77,\n",
              " 52,\n",
              " 5,\n",
              " 14,\n",
              " 407,\n",
              " 16,\n",
              " 82,\n",
              " 2,\n",
              " 8,\n",
              " 4,\n",
              " 107,\n",
              " 117,\n",
              " 5952,\n",
              " 15,\n",
              " 256,\n",
              " 4,\n",
              " 2,\n",
              " 7,\n",
              " 3766,\n",
              " 5,\n",
              " 723,\n",
              " 36,\n",
              " 71,\n",
              " 43,\n",
              " 530,\n",
              " 476,\n",
              " 26,\n",
              " 400,\n",
              " 317,\n",
              " 46,\n",
              " 7,\n",
              " 4,\n",
              " 2,\n",
              " 1029,\n",
              " 13,\n",
              " 104,\n",
              " 88,\n",
              " 4,\n",
              " 381,\n",
              " 15,\n",
              " 297,\n",
              " 98,\n",
              " 32,\n",
              " 2071,\n",
              " 56,\n",
              " 26,\n",
              " 141,\n",
              " 6,\n",
              " 194,\n",
              " 7486,\n",
              " 18,\n",
              " 4,\n",
              " 226,\n",
              " 22,\n",
              " 21,\n",
              " 134,\n",
              " 476,\n",
              " 26,\n",
              " 480,\n",
              " 5,\n",
              " 144,\n",
              " 30,\n",
              " 5535,\n",
              " 18,\n",
              " 51,\n",
              " 36,\n",
              " 28,\n",
              " 224,\n",
              " 92,\n",
              " 25,\n",
              " 104,\n",
              " 4,\n",
              " 226,\n",
              " 65,\n",
              " 16,\n",
              " 38,\n",
              " 1334,\n",
              " 88,\n",
              " 12,\n",
              " 16,\n",
              " 283,\n",
              " 5,\n",
              " 16,\n",
              " 4472,\n",
              " 113,\n",
              " 103,\n",
              " 32,\n",
              " 15,\n",
              " 16,\n",
              " 5345,\n",
              " 19,\n",
              " 178,\n",
              " 32]"
            ]
          },
          "metadata": {
            "tags": []
          },
          "execution_count": 7
        }
      ]
    },
    {
      "cell_type": "code",
      "metadata": {
        "id": "dIFeyl-vMC9B",
        "colab_type": "code",
        "colab": {
          "base_uri": "https://localhost:8080/",
          "height": 34
        },
        "outputId": "85c9cb3d-e673-468b-d91c-cf43076d5024"
      },
      "source": [
        "train_labels[0]"
      ],
      "execution_count": null,
      "outputs": [
        {
          "output_type": "execute_result",
          "data": {
            "text/plain": [
              "1"
            ]
          },
          "metadata": {
            "tags": []
          },
          "execution_count": 8
        }
      ]
    },
    {
      "cell_type": "code",
      "metadata": {
        "id": "rNKnAgA_MErg",
        "colab_type": "code",
        "colab": {
          "base_uri": "https://localhost:8080/",
          "height": 34
        },
        "outputId": "13c2d69a-56d6-4838-b750-344d39945639"
      },
      "source": [
        "# 가장 자주 등자하는 단어 1만개로 제한했기 때문에 단어 인덱스는 9,999를 넘지 않습니다.\n",
        "max([max(sequence) for sequence in train_data])"
      ],
      "execution_count": null,
      "outputs": [
        {
          "output_type": "execute_result",
          "data": {
            "text/plain": [
              "9999"
            ]
          },
          "metadata": {
            "tags": []
          },
          "execution_count": 9
        }
      ]
    },
    {
      "cell_type": "markdown",
      "metadata": {
        "id": "wY-F9P-lMQmI",
        "colab_type": "text"
      },
      "source": [
        "재미 삼아 이 리뷰 데이터 하나를 원래 영어 단어로 어떻게 바꾸는지 보겠습니다"
      ]
    },
    {
      "cell_type": "code",
      "metadata": {
        "id": "bjRP3GOuMOs4",
        "colab_type": "code",
        "colab": {}
      },
      "source": [
        "word_index = imdb.get_word_index() # word_index는 단어와 정수 인덱스를 매핑한 딕셔너리 입니다.\n",
        "reverse_word_index = dict(\n",
        "    [(value,key) for (key,value) in word_index.items()] # 정수 인덱스와 단어를 매핑하도록 뒤집습니다.\n",
        ")\n",
        "decode_review = ' '.join([reverse_word_index.get(i-3 , '?') for i in train_data[0]]) # 리뷰를 디코딩합니다. 0,1,2,는 '패딩','문서시작','사전에 없음'을 위한 인덱스이므로 3을 뺍니다."
      ],
      "execution_count": null,
      "outputs": []
    },
    {
      "cell_type": "code",
      "metadata": {
        "id": "h24x5XDmM0dH",
        "colab_type": "code",
        "colab": {
          "base_uri": "https://localhost:8080/",
          "height": 125
        },
        "outputId": "47a8abc8-cded-45d1-d58b-46efa201f6a6"
      },
      "source": [
        "decode_review"
      ],
      "execution_count": null,
      "outputs": [
        {
          "output_type": "execute_result",
          "data": {
            "application/vnd.google.colaboratory.intrinsic+json": {
              "type": "string"
            },
            "text/plain": [
              "\"? this film was just brilliant casting location scenery story direction everyone's really suited the part they played and you could just imagine being there robert ? is an amazing actor and now the same being director ? father came from the same scottish island as myself so i loved the fact there was a real connection with this film the witty remarks throughout the film were great it was just brilliant so much that i bought the film as soon as it was released for ? and would recommend it to everyone to watch and the fly fishing was amazing really cried at the end it was so sad and you know what they say if you cry at a film it must have been good and this definitely was also ? to the two little boy's that played the ? of norman and paul they were just brilliant children are often left out of the ? list i think because the stars that play them all grown up are such a big profile for the whole film but these children are amazing and should be praised for what they have done don't you think the whole story was so lovely because it was true and was someone's life after all that was shared with us all\""
            ]
          },
          "metadata": {
            "tags": []
          },
          "execution_count": 12
        }
      ]
    },
    {
      "cell_type": "markdown",
      "metadata": {
        "id": "JrbWcrLjOCpe",
        "colab_type": "text"
      },
      "source": [
        "**데이터 준비**"
      ]
    },
    {
      "cell_type": "markdown",
      "metadata": {
        "id": "xo-qyEYVkgIC",
        "colab_type": "text"
      },
      "source": [
        "* Input data 준비방법<br>\n",
        "1) 같은 길이가 되도록 리스트에 패딩(padding)을 추가하고 (samples, sequence_length)크기의 정수 텐서로 변환합니다. 그 다음 이 정수 텐서를 다룰 수 있는 층을 신경망의 첫 번째 층으로 사용합니다.(Embedding층을 말하며 나중에 다시 자세히..!!) <br>\n",
        "2) 리스트를 원-핫 인코딩(one-hot encoding)하여 0과 1의 벡터로 변환합니다. 예를 들어 시퀀스 [3,5]를 인덱스 3과 5의 위치는 1이고 그 이외는 모두 0인 10,000차원의 벡터로 각각 변환합니다. 그 다음 부동 소수 벡터 데이터를 다룰 수 있는 Dense층을 신경망의 첫 번째 층으로 사용합니다."
      ]
    },
    {
      "cell_type": "code",
      "metadata": {
        "id": "TYG6bn4mM61_",
        "colab_type": "code",
        "colab": {}
      },
      "source": [
        "# 정수 시퀀스를 이진 행렬로 인코딩하기\n",
        "import numpy as np"
      ],
      "execution_count": null,
      "outputs": []
    },
    {
      "cell_type": "code",
      "metadata": {
        "id": "sL6ZQ8n7OL3t",
        "colab_type": "code",
        "colab": {}
      },
      "source": [
        "def vectorize_sequences(sequences,dimension = 10000):\n",
        "  results = np.zeros((len(sequences),dimension)) # 크기가 len(sequence), dimension 이고 모든 원소가 0인 행렬을 만듭니다.\n",
        "  for i, sequence in enumerate(sequences):\n",
        "    results[i,sequence] = 1\n",
        "  return results"
      ],
      "execution_count": null,
      "outputs": []
    },
    {
      "cell_type": "code",
      "metadata": {
        "id": "wZxcYzYWOfbv",
        "colab_type": "code",
        "colab": {}
      },
      "source": [
        "x_train = vectorize_sequences(train_data)\n",
        "x_test = vectorize_sequences(test_data)"
      ],
      "execution_count": null,
      "outputs": []
    },
    {
      "cell_type": "code",
      "metadata": {
        "id": "pz1xdfF-OoAZ",
        "colab_type": "code",
        "colab": {
          "base_uri": "https://localhost:8080/",
          "height": 34
        },
        "outputId": "7e67c984-c534-4d57-f72c-c3cc028505cf"
      },
      "source": [
        "x_train[0]"
      ],
      "execution_count": null,
      "outputs": [
        {
          "output_type": "execute_result",
          "data": {
            "text/plain": [
              "array([0., 1., 1., ..., 0., 0., 0.])"
            ]
          },
          "metadata": {
            "tags": []
          },
          "execution_count": 16
        }
      ]
    },
    {
      "cell_type": "code",
      "metadata": {
        "id": "HDAmpq4GOrTl",
        "colab_type": "code",
        "colab": {}
      },
      "source": [
        "# 레이블을 쉽게 벡터로 변경 가능\n",
        "y_train = np.asarray(train_labels).astype('float32')\n",
        "y_test = np.asarray(test_labels).astype('float32')"
      ],
      "execution_count": null,
      "outputs": []
    },
    {
      "cell_type": "markdown",
      "metadata": {
        "id": "RSTXLo8ZO1dR",
        "colab_type": "text"
      },
      "source": [
        "**신경망 모델 만들기**"
      ]
    },
    {
      "cell_type": "code",
      "metadata": {
        "id": "EopJPDVVO0zj",
        "colab_type": "code",
        "colab": {}
      },
      "source": [
        "# 모델 정의하기\n",
        "from tensorflow.keras import models\n",
        "from tensorflow.keras import layers"
      ],
      "execution_count": null,
      "outputs": []
    },
    {
      "cell_type": "code",
      "metadata": {
        "id": "LF2nHvWdO9p3",
        "colab_type": "code",
        "colab": {}
      },
      "source": [
        "model = models.Sequential()\n",
        "model.add(layers.Dense(16,activation = 'relu',input_shape = (10000,)))\n",
        "model.add(layers.Dense(16,activation = 'relu'))\n",
        "model.add(layers.Dense(1,activation='sigmoid'))"
      ],
      "execution_count": null,
      "outputs": []
    },
    {
      "cell_type": "markdown",
      "metadata": {
        "id": "oxI3lId6P5kh",
        "colab_type": "text"
      },
      "source": [
        "크로스엔트로피 : 정보 이론 분야에서 온 개념으로 확률 분포 간의 차이를 측정합니다. 여기에서는 원본 분포와 예측 분포 사이를 측정합니다."
      ]
    },
    {
      "cell_type": "code",
      "metadata": {
        "id": "eQBLC6SvP2UU",
        "colab_type": "code",
        "colab": {}
      },
      "source": [
        "# 측정 지표를 문자열로 지정하는 것이 가능.\n",
        "model.compile(optimizer= 'rmsprop',loss = 'binary_crossentropy',metrics=['accuracy'])"
      ],
      "execution_count": null,
      "outputs": []
    },
    {
      "cell_type": "code",
      "metadata": {
        "id": "-bnsaqX1QFua",
        "colab_type": "code",
        "colab": {}
      },
      "source": [
        "# 파이썬 클래스를 사용해서 객체를 직접 만들어 optimizer 매개변수에 전달.\n",
        "from tensorflow.keras import optimizers,losses,metrics\n",
        "model.compile(optimizer=optimizers.RMSprop(lr=0.001),loss = losses.binary_crossentropy,metrics=[metrics.binary_accuracy])"
      ],
      "execution_count": null,
      "outputs": []
    },
    {
      "cell_type": "markdown",
      "metadata": {
        "id": "AqIh-VY7Qoxt",
        "colab_type": "text"
      },
      "source": [
        "**훈련 검증**"
      ]
    },
    {
      "cell_type": "code",
      "metadata": {
        "id": "tD-tfZ37QcVl",
        "colab_type": "code",
        "colab": {}
      },
      "source": [
        "x_val = x_train[:10000]\n",
        "partial_x_train = x_train[10000:]\n",
        "y_val = y_train[:10000]\n",
        "partial_y_train = y_train[10000:]"
      ],
      "execution_count": null,
      "outputs": []
    },
    {
      "cell_type": "code",
      "metadata": {
        "id": "JnhjfDbcQ15g",
        "colab_type": "code",
        "colab": {
          "base_uri": "https://localhost:8080/",
          "height": 721
        },
        "outputId": "c0ad164f-0268-4449-da5d-1e0ec3ec33de"
      },
      "source": [
        "# 모델 훈련하기\n",
        "model.compile(optimizer= 'rmsprop',loss= 'binary_crossentropy',metrics = ['acc'])\n",
        "history = model.fit(partial_x_train,partial_y_train,epochs = 20,batch_size=512,validation_data = (x_val,y_val))"
      ],
      "execution_count": null,
      "outputs": [
        {
          "output_type": "stream",
          "text": [
            "Epoch 1/20\n",
            "30/30 [==============================] - 1s 32ms/step - loss: 0.5144 - acc: 0.7981 - val_loss: 0.3887 - val_acc: 0.8719\n",
            "Epoch 2/20\n",
            "30/30 [==============================] - 1s 18ms/step - loss: 0.3069 - acc: 0.9034 - val_loss: 0.3152 - val_acc: 0.8770\n",
            "Epoch 3/20\n",
            "30/30 [==============================] - 1s 19ms/step - loss: 0.2245 - acc: 0.9270 - val_loss: 0.2775 - val_acc: 0.8911\n",
            "Epoch 4/20\n",
            "30/30 [==============================] - 1s 19ms/step - loss: 0.1744 - acc: 0.9445 - val_loss: 0.2788 - val_acc: 0.8885\n",
            "Epoch 5/20\n",
            "30/30 [==============================] - 1s 18ms/step - loss: 0.1455 - acc: 0.9518 - val_loss: 0.2804 - val_acc: 0.8877\n",
            "Epoch 6/20\n",
            "30/30 [==============================] - 1s 19ms/step - loss: 0.1183 - acc: 0.9645 - val_loss: 0.2924 - val_acc: 0.8873\n",
            "Epoch 7/20\n",
            "30/30 [==============================] - 1s 18ms/step - loss: 0.0973 - acc: 0.9702 - val_loss: 0.3490 - val_acc: 0.8725\n",
            "Epoch 8/20\n",
            "30/30 [==============================] - 1s 19ms/step - loss: 0.0829 - acc: 0.9760 - val_loss: 0.3293 - val_acc: 0.8810\n",
            "Epoch 9/20\n",
            "30/30 [==============================] - 1s 19ms/step - loss: 0.0674 - acc: 0.9804 - val_loss: 0.3566 - val_acc: 0.8783\n",
            "Epoch 10/20\n",
            "30/30 [==============================] - 1s 19ms/step - loss: 0.0559 - acc: 0.9861 - val_loss: 0.3787 - val_acc: 0.8766\n",
            "Epoch 11/20\n",
            "30/30 [==============================] - 1s 18ms/step - loss: 0.0443 - acc: 0.9901 - val_loss: 0.4076 - val_acc: 0.8767\n",
            "Epoch 12/20\n",
            "30/30 [==============================] - 1s 18ms/step - loss: 0.0379 - acc: 0.9915 - val_loss: 0.4444 - val_acc: 0.8710\n",
            "Epoch 13/20\n",
            "30/30 [==============================] - 1s 19ms/step - loss: 0.0295 - acc: 0.9952 - val_loss: 0.4715 - val_acc: 0.8745\n",
            "Epoch 14/20\n",
            "30/30 [==============================] - 1s 18ms/step - loss: 0.0244 - acc: 0.9949 - val_loss: 0.5062 - val_acc: 0.8682\n",
            "Epoch 15/20\n",
            "30/30 [==============================] - 1s 19ms/step - loss: 0.0185 - acc: 0.9972 - val_loss: 0.5453 - val_acc: 0.8673\n",
            "Epoch 16/20\n",
            "30/30 [==============================] - 1s 18ms/step - loss: 0.0161 - acc: 0.9972 - val_loss: 0.5905 - val_acc: 0.8681\n",
            "Epoch 17/20\n",
            "30/30 [==============================] - 1s 19ms/step - loss: 0.0127 - acc: 0.9985 - val_loss: 0.6101 - val_acc: 0.8684\n",
            "Epoch 18/20\n",
            "30/30 [==============================] - 1s 18ms/step - loss: 0.0088 - acc: 0.9993 - val_loss: 0.6548 - val_acc: 0.8681\n",
            "Epoch 19/20\n",
            "30/30 [==============================] - 1s 18ms/step - loss: 0.0089 - acc: 0.9990 - val_loss: 0.6801 - val_acc: 0.8659\n",
            "Epoch 20/20\n",
            "30/30 [==============================] - 1s 18ms/step - loss: 0.0045 - acc: 0.9997 - val_loss: 0.7219 - val_acc: 0.8632\n"
          ],
          "name": "stdout"
        }
      ]
    },
    {
      "cell_type": "code",
      "metadata": {
        "id": "dnkKc7amSOQ1",
        "colab_type": "code",
        "colab": {
          "base_uri": "https://localhost:8080/",
          "height": 34
        },
        "outputId": "ba308631-1f29-4555-b93b-e56c1ad2c0bc"
      },
      "source": [
        "# model_fit() 메서드는 History객체를 반환합니다. 이 객체는 훈련하는 동안 발생한 모든 정보를 담고 있는 딕셔너리인 history속성을 가지고 있습니다.\n",
        "history_dict = history.history\n",
        "history_dict.keys()"
      ],
      "execution_count": null,
      "outputs": [
        {
          "output_type": "execute_result",
          "data": {
            "text/plain": [
              "dict_keys(['loss', 'acc', 'val_loss', 'val_acc'])"
            ]
          },
          "metadata": {
            "tags": []
          },
          "execution_count": 29
        }
      ]
    },
    {
      "cell_type": "code",
      "metadata": {
        "id": "b0TqhW4CSzay",
        "colab_type": "code",
        "colab": {
          "base_uri": "https://localhost:8080/",
          "height": 295
        },
        "outputId": "ffb8b333-dd10-4513-c74e-f71bfe9cc912"
      },
      "source": [
        "# 훈련과 검증 손실 그리기\n",
        "import matplotlib.pyplot as plt\n",
        "\n",
        "history_dict= history.history\n",
        "loss = history_dict['loss']\n",
        "val_loss = history_dict['val_loss']\n",
        "\n",
        "epochs = range(1,len(loss)+1)\n",
        "\n",
        "plt.plot(epochs, loss,'bo',label = 'Training Loss') # bo : 파란색 점을 의미\n",
        "plt.plot(epochs, val_loss , 'b', label = 'Validation Loss') # b : 파란색 실선\n",
        "plt.title('Training and validation loss')\n",
        "plt.xlabel('Epochs')\n",
        "plt.ylabel('Loss')\n",
        "plt.legend()\n",
        "plt.show()"
      ],
      "execution_count": null,
      "outputs": [
        {
          "output_type": "display_data",
          "data": {
            "image/png": "[encoded data removed]",
            "text/plain": [
              "<Figure size 432x288 with 1 Axes>"
            ]
          },
          "metadata": {
            "tags": [],
            "needs_background": "light"
          }
        }
      ]
    },
    {
      "cell_type": "code",
      "metadata": {
        "id": "LP1ox0PPTbPJ",
        "colab_type": "code",
        "colab": {
          "base_uri": "https://localhost:8080/",
          "height": 295
        },
        "outputId": "72a6ca66-01a3-4524-fc5c-495297791d8f"
      },
      "source": [
        "# 훈련과 검증 정확도 그리기\n",
        "plt.clf()\n",
        "acc = history_dict['acc']\n",
        "val_acc = history_dict['val_acc']\n",
        "\n",
        "plt.plot(epochs,acc,'bo',label = 'Training acc')\n",
        "plt.plot(epochs,val_acc,'b',label = 'Validation acc')\n",
        "plt.title('Training and validation accuracy')\n",
        "plt.xlabel('Epochs')\n",
        "plt.ylabel('Accuracy')\n",
        "plt.legend()\n",
        "plt.show()"
      ],
      "execution_count": null,
      "outputs": [
        {
          "output_type": "display_data",
          "data": {
            "image/png": "[encoded data removed]",
            "text/plain": [
              "<Figure size 432x288 with 1 Axes>"
            ]
          },
          "metadata": {
            "tags": [],
            "needs_background": "light"
          }
        }
      ]
    },
    {
      "cell_type": "code",
      "metadata": {
        "id": "ZHLPhZqiTylT",
        "colab_type": "code",
        "colab": {
          "base_uri": "https://localhost:8080/",
          "height": 175
        },
        "outputId": "1a89b4b4-34c5-4ebe-e855-ad1de2fa290c"
      },
      "source": [
        "# 모델을 처음부터 다시 훈련하기\n",
        "# fit()메서드를 재호출하면 학습된 가중치에서 훈련이 이어지므로 처음 다시 학습하려면 모델 객체를 새로 만들어야 합니다.\n",
        "model = models.Sequential()\n",
        "model.add(layers.Dense(16,activation = 'relu',input_shape = (10000,)))\n",
        "model.add(layers.Dense(16,activation = 'relu'))\n",
        "model.add(layers.Dense(1,activation= 'sigmoid'))\n",
        "\n",
        "model.compile(optimizer='rmsprop',loss = 'binary_crossentropy',metrics=['accuracy'])\n",
        "\n",
        "model.fit(x_train,y_train,epochs=4,batch_size = 512)\n",
        "results = model.evaluate(x_test,y_test)"
      ],
      "execution_count": null,
      "outputs": [
        {
          "output_type": "stream",
          "text": [
            "Epoch 1/4\n",
            "49/49 [==============================] - 1s 12ms/step - loss: 0.4537 - accuracy: 0.8176\n",
            "Epoch 2/4\n",
            "49/49 [==============================] - 1s 13ms/step - loss: 0.2596 - accuracy: 0.9098\n",
            "Epoch 3/4\n",
            "49/49 [==============================] - 1s 12ms/step - loss: 0.1998 - accuracy: 0.9278\n",
            "Epoch 4/4\n",
            "49/49 [==============================] - 1s 12ms/step - loss: 0.1661 - accuracy: 0.9410\n",
            "782/782 [==============================] - 2s 3ms/step - loss: 0.2958 - accuracy: 0.8837\n"
          ],
          "name": "stdout"
        }
      ]
    },
    {
      "cell_type": "code",
      "metadata": {
        "id": "nB5IcKNyVJjA",
        "colab_type": "code",
        "colab": {
          "base_uri": "https://localhost:8080/",
          "height": 34
        },
        "outputId": "76e6896f-b64a-4009-fbe3-0967e2488e46"
      },
      "source": [
        "results"
      ],
      "execution_count": null,
      "outputs": [
        {
          "output_type": "execute_result",
          "data": {
            "text/plain": [
              "[0.29583078622817993, 0.8837199807167053]"
            ]
          },
          "metadata": {
            "tags": []
          },
          "execution_count": 33
        }
      ]
    },
    {
      "cell_type": "markdown",
      "metadata": {
        "id": "PtMHLDCdVSAN",
        "colab_type": "text"
      },
      "source": [
        "아주 단순한 방식으로도 88% 정확도를 달성"
      ]
    },
    {
      "cell_type": "markdown",
      "metadata": {
        "id": "hva8-_xnVU-Z",
        "colab_type": "text"
      },
      "source": [
        "**훈련된 모델로 새로운 데이터에 대해 예측하기**"
      ]
    },
    {
      "cell_type": "code",
      "metadata": {
        "id": "q6JgbE-xVM_W",
        "colab_type": "code",
        "colab": {
          "base_uri": "https://localhost:8080/",
          "height": 140
        },
        "outputId": "75ade458-bc84-4291-f26c-54f3ee27d161"
      },
      "source": [
        "model.predict(x_test) # predict를 사용해 어떤 리뷰가 긍정일지 예측! 여기처럼 이 모델은 어떤 샘플에 대해 확신을 가지고 있지만 어떤 샘플에 대해서는 확신이 부족합니다."
      ],
      "execution_count": null,
      "outputs": [
        {
          "output_type": "execute_result",
          "data": {
            "text/plain": [
              "array([[0.16590068],\n",
              "       [0.9999385 ],\n",
              "       [0.91627   ],\n",
              "       ...,\n",
              "       [0.110755  ],\n",
              "       [0.07662832],\n",
              "       [0.47889557]], dtype=float32)"
            ]
          },
          "metadata": {
            "tags": []
          },
          "execution_count": 34
        }
      ]
    },
    {
      "cell_type": "markdown",
      "metadata": {
        "id": "_EQlPBIZV1L5",
        "colab_type": "text"
      },
      "source": [
        "**추가실험**"
      ]
    },
    {
      "cell_type": "code",
      "metadata": {
        "id": "LqCO8ZCbYphK",
        "colab_type": "code",
        "colab": {}
      },
      "source": [
        "def model(units,activation,loss):\n",
        "  model_plus = models.Sequential()\n",
        "  model_plus.add(layers.Dense(units,activation= activation,input_shape = (10000,)))\n",
        "  model_plus.add(layers.Dense(units,activation=activation))\n",
        "  model_plus.add(layers.Dense(1,activation='sigmoid'))\n",
        "\n",
        "  model_plus.compile(optimizer= 'rmsprop',loss = loss,metrics=['acc'])\n",
        "  return model_plus"
      ],
      "execution_count": null,
      "outputs": []
    },
    {
      "cell_type": "code",
      "metadata": {
        "id": "czmP3koiZbh5",
        "colab_type": "code",
        "colab": {}
      },
      "source": [
        "model_plus = model(64,'tanh','mse') # 32 -> 64 : 검증 정확도 하락. relu -> tanh : 검증 정확도 하락"
      ],
      "execution_count": null,
      "outputs": []
    },
    {
      "cell_type": "code",
      "metadata": {
        "id": "8rfv_tH9ZtvO",
        "colab_type": "code",
        "colab": {
          "base_uri": "https://localhost:8080/",
          "height": 193
        },
        "outputId": "b362693f-d54b-4905-c633-a5c02e3fb44e"
      },
      "source": [
        "model_plus.fit(x_train,y_train,epochs = 4,batch_size = 512)\n",
        "results = model_plus.evaluate(x_test,y_test)\n",
        "results"
      ],
      "execution_count": null,
      "outputs": [
        {
          "output_type": "stream",
          "text": [
            "Epoch 1/4\n",
            "49/49 [==============================] - 1s 13ms/step - loss: 0.1295 - acc: 0.8186\n",
            "Epoch 2/4\n",
            "49/49 [==============================] - 1s 12ms/step - loss: 0.0659 - acc: 0.9130\n",
            "Epoch 3/4\n",
            "49/49 [==============================] - 1s 12ms/step - loss: 0.0528 - acc: 0.9320\n",
            "Epoch 4/4\n",
            "49/49 [==============================] - 1s 12ms/step - loss: 0.0438 - acc: 0.9448\n",
            "782/782 [==============================] - 2s 3ms/step - loss: 0.1180 - acc: 0.8514\n"
          ],
          "name": "stdout"
        },
        {
          "output_type": "execute_result",
          "data": {
            "text/plain": [
              "[0.11797881126403809, 0.8514000177383423]"
            ]
          },
          "metadata": {
            "tags": []
          },
          "execution_count": 45
        }
      ]
    },
    {
      "cell_type": "markdown",
      "metadata": {
        "id": "LKwJ_M_gYnhC",
        "colab_type": "text"
      },
      "source": [
        "**다중분류문제**"
      ]
    },
    {
      "cell_type": "markdown",
      "metadata": {
        "id": "I8NSUxffaPti",
        "colab_type": "text"
      },
      "source": [
        "로이터 데이터 셋"
      ]
    },
    {
      "cell_type": "code",
      "metadata": {
        "id": "sZJ91xtNVm6T",
        "colab_type": "code",
        "colab": {}
      },
      "source": [
        "from tensorflow.keras.datasets import reuters"
      ],
      "execution_count": null,
      "outputs": []
    },
    {
      "cell_type": "code",
      "metadata": {
        "id": "HCdKpiAtaUTZ",
        "colab_type": "code",
        "colab": {
          "base_uri": "https://localhost:8080/",
          "height": 52
        },
        "outputId": "d0e6ceb8-599b-4908-910e-e9330d3ce662"
      },
      "source": [
        "(train_data,train_labels), (test_data, test_labels) = reuters.load_data(num_words= 10000)"
      ],
      "execution_count": null,
      "outputs": [
        {
          "output_type": "stream",
          "text": [
            "Downloading data from https://storage.googleapis.com/tensorflow/tf-keras-datasets/reuters.npz\n",
            "2113536/2110848 [==============================] - 0s 0us/step\n"
          ],
          "name": "stdout"
        }
      ]
    },
    {
      "cell_type": "code",
      "metadata": {
        "id": "RjiY8i4Yaa3C",
        "colab_type": "code",
        "colab": {
          "base_uri": "https://localhost:8080/",
          "height": 34
        },
        "outputId": "1b83fc6b-05c6-4bb4-a44e-9e4652602721"
      },
      "source": [
        "len(train_data) # 훈련 샘플"
      ],
      "execution_count": null,
      "outputs": [
        {
          "output_type": "execute_result",
          "data": {
            "text/plain": [
              "8982"
            ]
          },
          "metadata": {
            "tags": []
          },
          "execution_count": 48
        }
      ]
    },
    {
      "cell_type": "code",
      "metadata": {
        "id": "q2qFjFK9aeBX",
        "colab_type": "code",
        "colab": {
          "base_uri": "https://localhost:8080/",
          "height": 34
        },
        "outputId": "75f59fd8-166e-4c1f-880f-8217b4df3faf"
      },
      "source": [
        "len(test_data) # 테스트ㅡ 샘플"
      ],
      "execution_count": null,
      "outputs": [
        {
          "output_type": "execute_result",
          "data": {
            "text/plain": [
              "2246"
            ]
          },
          "metadata": {
            "tags": []
          },
          "execution_count": 49
        }
      ]
    },
    {
      "cell_type": "code",
      "metadata": {
        "id": "UW-l2mxrafJl",
        "colab_type": "code",
        "colab": {
          "base_uri": "https://localhost:8080/",
          "height": 1000
        },
        "outputId": "fa9d2473-3531-4d55-96ca-7999dcdf0e82"
      },
      "source": [
        "# 각 샘플은 정루 리스트(단어 인덱스)로 표현\n",
        "train_data[0]"
      ],
      "execution_count": null,
      "outputs": [
        {
          "output_type": "execute_result",
          "data": {
            "text/plain": [
              "[1,\n",
              " 2,\n",
              " 2,\n",
              " 8,\n",
              " 43,\n",
              " 10,\n",
              " 447,\n",
              " 5,\n",
              " 25,\n",
              " 207,\n",
              " 270,\n",
              " 5,\n",
              " 3095,\n",
              " 111,\n",
              " 16,\n",
              " 369,\n",
              " 186,\n",
              " 90,\n",
              " 67,\n",
              " 7,\n",
              " 89,\n",
              " 5,\n",
              " 19,\n",
              " 102,\n",
              " 6,\n",
              " 19,\n",
              " 124,\n",
              " 15,\n",
              " 90,\n",
              " 67,\n",
              " 84,\n",
              " 22,\n",
              " 482,\n",
              " 26,\n",
              " 7,\n",
              " 48,\n",
              " 4,\n",
              " 49,\n",
              " 8,\n",
              " 864,\n",
              " 39,\n",
              " 209,\n",
              " 154,\n",
              " 6,\n",
              " 151,\n",
              " 6,\n",
              " 83,\n",
              " 11,\n",
              " 15,\n",
              " 22,\n",
              " 155,\n",
              " 11,\n",
              " 15,\n",
              " 7,\n",
              " 48,\n",
              " 9,\n",
              " 4579,\n",
              " 1005,\n",
              " 504,\n",
              " 6,\n",
              " 258,\n",
              " 6,\n",
              " 272,\n",
              " 11,\n",
              " 15,\n",
              " 22,\n",
              " 134,\n",
              " 44,\n",
              " 11,\n",
              " 15,\n",
              " 16,\n",
              " 8,\n",
              " 197,\n",
              " 1245,\n",
              " 90,\n",
              " 67,\n",
              " 52,\n",
              " 29,\n",
              " 209,\n",
              " 30,\n",
              " 32,\n",
              " 132,\n",
              " 6,\n",
              " 109,\n",
              " 15,\n",
              " 17,\n",
              " 12]"
            ]
          },
          "metadata": {
            "tags": []
          },
          "execution_count": 50
        }
      ]
    },
    {
      "cell_type": "code",
      "metadata": {
        "id": "tV8b2JiYakaw",
        "colab_type": "code",
        "colab": {}
      },
      "source": [
        "# 로이터 데이터셋을 텍스트로 디코딩\n",
        "word_index = reuters.get_word_index()\n",
        "reverse_word_index = dict([(value,key) for (key, value) in word_index.items()])\n",
        "decoded_newswire = ' '.join([reverse_word_index.get(i-3,'?') for i in train_data[0]]) # i-3이 없으면 ? 출력"
      ],
      "execution_count": null,
      "outputs": []
    },
    {
      "cell_type": "code",
      "metadata": {
        "id": "hyn1yvmybQQZ",
        "colab_type": "code",
        "colab": {
          "base_uri": "https://localhost:8080/",
          "height": 70
        },
        "outputId": "71059de2-9e43-4d35-8b9d-093ab5cb99e6"
      },
      "source": [
        "decoded_newswire"
      ],
      "execution_count": null,
      "outputs": [
        {
          "output_type": "execute_result",
          "data": {
            "application/vnd.google.colaboratory.intrinsic+json": {
              "type": "string"
            },
            "text/plain": [
              "'? ? ? said as a result of its december acquisition of space co it expects earnings per share in 1987 of 1 15 to 1 30 dlrs per share up from 70 cts in 1986 the company said pretax net should rise to nine to 10 mln dlrs from six mln dlrs in 1986 and rental operation revenues to 19 to 22 mln dlrs from 12 5 mln dlrs it said cash flow per share this year should be 2 50 to three dlrs reuter 3'"
            ]
          },
          "metadata": {
            "tags": []
          },
          "execution_count": 53
        }
      ]
    },
    {
      "cell_type": "code",
      "metadata": {
        "id": "bS1tFnNtbSfz",
        "colab_type": "code",
        "colab": {
          "base_uri": "https://localhost:8080/",
          "height": 34
        },
        "outputId": "9faf744b-32fa-46a0-ee9e-909c9a2524f6"
      },
      "source": [
        "# 샘플에 연결된 레이블은 토픽의 인덱스로 0과 45 사이의 정수입니다.\n",
        "train_labels[10]"
      ],
      "execution_count": null,
      "outputs": [
        {
          "output_type": "execute_result",
          "data": {
            "text/plain": [
              "3"
            ]
          },
          "metadata": {
            "tags": []
          },
          "execution_count": 54
        }
      ]
    },
    {
      "cell_type": "markdown",
      "metadata": {
        "id": "5Dar4U6CbZdp",
        "colab_type": "text"
      },
      "source": [
        "데이터 **준비**"
      ]
    },
    {
      "cell_type": "code",
      "metadata": {
        "id": "iieiHHVMbYY3",
        "colab_type": "code",
        "colab": {}
      },
      "source": [
        "# 데이터를 벡터로 변환!\n",
        "def vectorize_sequences(sequences,dimension = 10000):\n",
        "  results = np.zeros((len(sequences),dimension)) # 크기가 len(sequence), dimension 이고 모든 원소가 0인 행렬을 만듭니다.\n",
        "  for i, sequence in enumerate(sequences):\n",
        "    results[i,sequence] = 1\n",
        "  return results"
      ],
      "execution_count": null,
      "outputs": []
    },
    {
      "cell_type": "code",
      "metadata": {
        "id": "RKMio4SXbqx7",
        "colab_type": "code",
        "colab": {}
      },
      "source": [
        "x_train = vectorize_sequences(train_data)\n",
        "x_test = vectorize_sequences(test_data)"
      ],
      "execution_count": null,
      "outputs": []
    },
    {
      "cell_type": "code",
      "metadata": {
        "id": "VM86ah4rbwRY",
        "colab_type": "code",
        "colab": {}
      },
      "source": [
        "def to_one_hot(labels, dimension = 46):\n",
        "  results = np.zeros((len(labels),dimension))\n",
        "  for i,label in enumerate(labels):\n",
        "    results[i,label] = 1.\n",
        "  return results"
      ],
      "execution_count": null,
      "outputs": []
    },
    {
      "cell_type": "code",
      "metadata": {
        "id": "8biA3gO4b_W-",
        "colab_type": "code",
        "colab": {}
      },
      "source": [
        "one_hot_train_labels = to_one_hot(train_labels) # 훈련 레이블 벡터 변환\n",
        "one_hot_test_labels = to_one_hot(test_labels) # 테스트 레이블 벡터 변환"
      ],
      "execution_count": null,
      "outputs": []
    },
    {
      "cell_type": "markdown",
      "metadata": {
        "id": "ohLlqASUcKin",
        "colab_type": "text"
      },
      "source": [
        "레이블을 벡터로 바꾸는 방법은 2가지 존재<br>\n",
        "1) 레이블의 리스트를 정수 텐서로 변환하는 것<br>\n",
        "2) 원-핫 인코딩을 사용하는 것 -> 범주형 인코딩(categorical encoding)이라고도 부림"
      ]
    },
    {
      "cell_type": "code",
      "metadata": {
        "id": "PRIyAx6QcIPZ",
        "colab_type": "code",
        "colab": {}
      },
      "source": [
        "# 원핫 인코딩 내장함수 존재\n",
        "from tensorflow.keras.utils import to_categorical"
      ],
      "execution_count": null,
      "outputs": []
    },
    {
      "cell_type": "code",
      "metadata": {
        "id": "oxF0bbxKcgLW",
        "colab_type": "code",
        "colab": {}
      },
      "source": [
        "one_hot_train_labels = to_categorical(train_labels)\n",
        "one_hot_test_labels = to_categorical(test_labels)"
      ],
      "execution_count": null,
      "outputs": []
    },
    {
      "cell_type": "markdown",
      "metadata": {
        "id": "Kr5HMaJwc0g_",
        "colab_type": "text"
      },
      "source": [
        "**모델구성**"
      ]
    },
    {
      "cell_type": "markdown",
      "metadata": {
        "id": "a4mQbZE9dGcU",
        "colab_type": "text"
      },
      "source": [
        "출력 클래스 수가 2 -> 46.. 출력 공간의 차원이 훨씬 커짐.<br>\n",
        "Dense층을 쌓으면 각 층은 이전 층의 출력에서 제공한 정보만 사욯가능.. 한 층이 분류 문제에 필요한 일부 정보를 누락하면 그다음 층에서 이를 복원할 방법이 없습니다.<br>\n",
        "각 층은 잠재적으로 정보의 병목(information bottleneck)이 될 수 있습니다. 이전 예제에서 16차원을 가진 중간층을 사용했지만 16차원 공간은 46개의 클래스를 구분하기에 너무 제약이 많을 것같습니다.<br>\n",
        "이렇게 규모자 작은 층은 유용한 정보를 완정히 잃게 되는 \"정보의 병목지점\"처럼 동작할 수 있습니다.<br>\n",
        "이런 이유로 좀 더 규모가 큰 층을 사용하겠습니다."
      ]
    },
    {
      "cell_type": "code",
      "metadata": {
        "id": "CY1nCcvNczbv",
        "colab_type": "code",
        "colab": {}
      },
      "source": [
        "model = models.Sequential()\n",
        "model.add(layers.Dense(64,activation = 'relu',input_shape = (10000,)))\n",
        "model.add(layers.Dense(64,activation = 'relu'))\n",
        "model.add(layers.Dense(46,activation= 'softmax'))"
      ],
      "execution_count": null,
      "outputs": []
    },
    {
      "cell_type": "markdown",
      "metadata": {
        "id": "sjIzccIXd-6M",
        "colab_type": "text"
      },
      "source": [
        "이런 문제에 사용할 최선의 손실함수는 categorical_crossentropy입니다.<br>\n",
        "이 함수는 두 확률 분포 사이의 거리를 측정합니다. 여기에서는 출력한 확률 분포와 진짜 레이블의 분포 사이의 거리입니다. 두 분포 사이의 거리를 최소화하면 진짜 레이블에 가능한 가까운 출력을 내도록 모델을 훈련합니다."
      ]
    },
    {
      "cell_type": "code",
      "metadata": {
        "id": "Li49LNIkd8jd",
        "colab_type": "code",
        "colab": {}
      },
      "source": [
        "model.compile(optimizer='rmsprop',loss = 'categorical_crossentropy',metrics = ['acc'])"
      ],
      "execution_count": null,
      "outputs": []
    },
    {
      "cell_type": "markdown",
      "metadata": {
        "id": "LEXG-H3geW3_",
        "colab_type": "text"
      },
      "source": [
        "**훈련 검증**"
      ]
    },
    {
      "cell_type": "code",
      "metadata": {
        "id": "zJTtvywGeSk4",
        "colab_type": "code",
        "colab": {}
      },
      "source": [
        "x_val = x_train[:1000]\n",
        "partial_x_train = x_train[1000:]\n",
        "\n",
        "y_val = one_hot_train_labels[:1000]\n",
        "partial_y_train = one_hot_train_labels[1000:]"
      ],
      "execution_count": null,
      "outputs": []
    },
    {
      "cell_type": "code",
      "metadata": {
        "id": "CpPZddDyerfJ",
        "colab_type": "code",
        "colab": {
          "base_uri": "https://localhost:8080/",
          "height": 721
        },
        "outputId": "bc7da9cf-d9ee-4e56-9b25-1191156db2be"
      },
      "source": [
        "history = model.fit(partial_x_train,partial_y_train,epochs = 20,batch_size=512,validation_data= (x_val,y_val))"
      ],
      "execution_count": null,
      "outputs": [
        {
          "output_type": "stream",
          "text": [
            "Epoch 1/20\n",
            "16/16 [==============================] - 0s 26ms/step - loss: 2.5712 - acc: 0.5204 - val_loss: 1.6737 - val_acc: 0.6330\n",
            "Epoch 2/20\n",
            "16/16 [==============================] - 0s 15ms/step - loss: 1.3942 - acc: 0.7065 - val_loss: 1.2753 - val_acc: 0.7180\n",
            "Epoch 3/20\n",
            "16/16 [==============================] - 0s 14ms/step - loss: 1.0383 - acc: 0.7701 - val_loss: 1.1613 - val_acc: 0.7360\n",
            "Epoch 4/20\n",
            "16/16 [==============================] - 0s 14ms/step - loss: 0.8201 - acc: 0.8213 - val_loss: 1.0222 - val_acc: 0.7760\n",
            "Epoch 5/20\n",
            "16/16 [==============================] - 0s 15ms/step - loss: 0.6507 - acc: 0.8631 - val_loss: 0.9726 - val_acc: 0.7950\n",
            "Epoch 6/20\n",
            "16/16 [==============================] - 0s 14ms/step - loss: 0.5156 - acc: 0.8940 - val_loss: 0.9030 - val_acc: 0.8150\n",
            "Epoch 7/20\n",
            "16/16 [==============================] - 0s 15ms/step - loss: 0.4166 - acc: 0.9126 - val_loss: 0.8902 - val_acc: 0.8130\n",
            "Epoch 8/20\n",
            "16/16 [==============================] - 0s 13ms/step - loss: 0.3382 - acc: 0.9278 - val_loss: 0.9285 - val_acc: 0.8080\n",
            "Epoch 9/20\n",
            "16/16 [==============================] - 0s 15ms/step - loss: 0.2742 - acc: 0.9395 - val_loss: 0.8806 - val_acc: 0.8230\n",
            "Epoch 10/20\n",
            "16/16 [==============================] - 0s 13ms/step - loss: 0.2332 - acc: 0.9451 - val_loss: 0.9033 - val_acc: 0.8160\n",
            "Epoch 11/20\n",
            "16/16 [==============================] - 0s 14ms/step - loss: 0.2035 - acc: 0.9485 - val_loss: 0.9030 - val_acc: 0.8160\n",
            "Epoch 12/20\n",
            "16/16 [==============================] - 0s 14ms/step - loss: 0.1763 - acc: 0.9520 - val_loss: 0.9983 - val_acc: 0.7990\n",
            "Epoch 13/20\n",
            "16/16 [==============================] - 0s 14ms/step - loss: 0.1629 - acc: 0.9541 - val_loss: 0.9742 - val_acc: 0.8030\n",
            "Epoch 14/20\n",
            "16/16 [==============================] - 0s 13ms/step - loss: 0.1463 - acc: 0.9544 - val_loss: 1.0000 - val_acc: 0.8030\n",
            "Epoch 15/20\n",
            "16/16 [==============================] - 0s 14ms/step - loss: 0.1343 - acc: 0.9558 - val_loss: 0.9824 - val_acc: 0.8140\n",
            "Epoch 16/20\n",
            "16/16 [==============================] - 0s 13ms/step - loss: 0.1294 - acc: 0.9560 - val_loss: 0.9887 - val_acc: 0.8130\n",
            "Epoch 17/20\n",
            "16/16 [==============================] - 0s 14ms/step - loss: 0.1220 - acc: 0.9574 - val_loss: 0.9952 - val_acc: 0.8070\n",
            "Epoch 18/20\n",
            "16/16 [==============================] - 0s 15ms/step - loss: 0.1178 - acc: 0.9568 - val_loss: 1.0936 - val_acc: 0.7910\n",
            "Epoch 19/20\n",
            "16/16 [==============================] - 0s 14ms/step - loss: 0.1132 - acc: 0.9569 - val_loss: 1.0409 - val_acc: 0.8130\n",
            "Epoch 20/20\n",
            "16/16 [==============================] - 0s 14ms/step - loss: 0.1125 - acc: 0.9569 - val_loss: 1.1343 - val_acc: 0.7950\n"
          ],
          "name": "stdout"
        }
      ]
    },
    {
      "cell_type": "code",
      "metadata": {
        "id": "GCTLrDdKezrf",
        "colab_type": "code",
        "colab": {
          "base_uri": "https://localhost:8080/",
          "height": 295
        },
        "outputId": "2f07a086-adca-43d9-cf93-dfd4cd642897"
      },
      "source": [
        "# 훈련 손실과 검증 손실 그래프\n",
        "history_dict= history.history\n",
        "loss = history_dict['loss']\n",
        "val_loss = history_dict['val_loss']\n",
        "\n",
        "epochs = range(1,len(loss)+1)\n",
        "\n",
        "plt.plot(epochs, loss,'bo',label = 'Training Loss') # bo : 파란색 점을 의미\n",
        "plt.plot(epochs, val_loss , 'b', label = 'Validation Loss') # b : 파란색 실선\n",
        "plt.title('Training and validation loss')\n",
        "plt.xlabel('Epochs')\n",
        "plt.ylabel('Loss')\n",
        "plt.legend()\n",
        "plt.show()"
      ],
      "execution_count": null,
      "outputs": [
        {
          "output_type": "display_data",
          "data": {
            "image/png": "[encoded data removed]",
            "text/plain": [
              "<Figure size 432x288 with 1 Axes>"
            ]
          },
          "metadata": {
            "tags": [],
            "needs_background": "light"
          }
        }
      ]
    },
    {
      "cell_type": "code",
      "metadata": {
        "id": "9BlIaST4gnLv",
        "colab_type": "code",
        "colab": {
          "base_uri": "https://localhost:8080/",
          "height": 295
        },
        "outputId": "b86652a8-280c-454b-c8e1-84495b3eb8d7"
      },
      "source": [
        "# 훈련과 검증 정확도 그리기\n",
        "plt.clf()\n",
        "acc = history_dict['acc']\n",
        "val_acc = history_dict['val_acc']\n",
        "\n",
        "plt.plot(epochs,acc,'bo',label = 'Training acc')\n",
        "plt.plot(epochs,val_acc,'b',label = 'Validation acc')\n",
        "plt.title('Training and validation accuracy')\n",
        "plt.xlabel('Epochs')\n",
        "plt.ylabel('Accuracy')\n",
        "plt.legend()\n",
        "plt.show()"
      ],
      "execution_count": null,
      "outputs": [
        {
          "output_type": "display_data",
          "data": {
            "image/png": "[encoded data removed]",
            "text/plain": [
              "<Figure size 432x288 with 1 Axes>"
            ]
          },
          "metadata": {
            "tags": [],
            "needs_background": "light"
          }
        }
      ]
    },
    {
      "cell_type": "markdown",
      "metadata": {
        "id": "ilV1AbNcgtTd",
        "colab_type": "text"
      },
      "source": [
        "9번째 에포크 이후에 과대적합 시작. 아홉 번의 에포크로 새로운 모델을 훈련하고 테스트 세트에서 평가하겠습니다."
      ]
    },
    {
      "cell_type": "code",
      "metadata": {
        "id": "FccmcT6PgrR6",
        "colab_type": "code",
        "colab": {
          "base_uri": "https://localhost:8080/",
          "height": 351
        },
        "outputId": "11439e28-53dc-4cd7-fef3-13b98ad1ba63"
      },
      "source": [
        "model = models.Sequential()\n",
        "model.add(layers.Dense(64,activation = 'relu',input_shape = (10000,)))\n",
        "model.add(layers.Dense(64,activation = 'relu'))\n",
        "model.add(layers.Dense(46,activation= 'softmax'))\n",
        "\n",
        "\n",
        "model.compile(optimizer='rmsprop',loss= 'categorical_crossentropy',metrics=['acc'])\n",
        "model.fit(partial_x_train,partial_y_train,epochs = 9,batch_size = 512,validation_data = (x_val,y_val))\n",
        "results = model.evaluate(x_test,one_hot_test_labels)"
      ],
      "execution_count": null,
      "outputs": [
        {
          "output_type": "stream",
          "text": [
            "Epoch 1/9\n",
            "16/16 [==============================] - 0s 23ms/step - loss: 2.5801 - acc: 0.5114 - val_loss: 1.7042 - val_acc: 0.6530\n",
            "Epoch 2/9\n",
            "16/16 [==============================] - 0s 13ms/step - loss: 1.3982 - acc: 0.7086 - val_loss: 1.2926 - val_acc: 0.7290\n",
            "Epoch 3/9\n",
            "16/16 [==============================] - 0s 14ms/step - loss: 1.0473 - acc: 0.7735 - val_loss: 1.1265 - val_acc: 0.7490\n",
            "Epoch 4/9\n",
            "16/16 [==============================] - 0s 14ms/step - loss: 0.8218 - acc: 0.8255 - val_loss: 1.0438 - val_acc: 0.7760\n",
            "Epoch 5/9\n",
            "16/16 [==============================] - 0s 14ms/step - loss: 0.6534 - acc: 0.8632 - val_loss: 0.9773 - val_acc: 0.7910\n",
            "Epoch 6/9\n",
            "16/16 [==============================] - 0s 13ms/step - loss: 0.5243 - acc: 0.8911 - val_loss: 0.9235 - val_acc: 0.8030\n",
            "Epoch 7/9\n",
            "16/16 [==============================] - 0s 14ms/step - loss: 0.4196 - acc: 0.9133 - val_loss: 0.9404 - val_acc: 0.7920\n",
            "Epoch 8/9\n",
            "16/16 [==============================] - 0s 14ms/step - loss: 0.3455 - acc: 0.9280 - val_loss: 0.9028 - val_acc: 0.8110\n",
            "Epoch 9/9\n",
            "16/16 [==============================] - 0s 14ms/step - loss: 0.2842 - acc: 0.9371 - val_loss: 0.9014 - val_acc: 0.8130\n",
            "71/71 [==============================] - 0s 3ms/step - loss: 0.9833 - acc: 0.7921\n"
          ],
          "name": "stdout"
        }
      ]
    },
    {
      "cell_type": "code",
      "metadata": {
        "id": "2kMnQk36hNxD",
        "colab_type": "code",
        "colab": {
          "base_uri": "https://localhost:8080/",
          "height": 34
        },
        "outputId": "2c9485db-9f5d-4ee9-a57e-b650d95113ef"
      },
      "source": [
        "results # 대략 79% 정확도 달성"
      ],
      "execution_count": null,
      "outputs": [
        {
          "output_type": "execute_result",
          "data": {
            "text/plain": [
              "[0.9833152890205383, 0.7920747995376587]"
            ]
          },
          "metadata": {
            "tags": []
          },
          "execution_count": 71
        }
      ]
    },
    {
      "cell_type": "markdown",
      "metadata": {
        "id": "Ve2TtSFFh4B9",
        "colab_type": "text"
      },
      "source": [
        "새로운 데이터에 대해 예측하기"
      ]
    },
    {
      "cell_type": "code",
      "metadata": {
        "id": "uLjPj9ouhP-Y",
        "colab_type": "code",
        "colab": {}
      },
      "source": [
        "predictions = model.predict(x_test)"
      ],
      "execution_count": null,
      "outputs": []
    },
    {
      "cell_type": "code",
      "metadata": {
        "id": "5Swcn4iXh7QC",
        "colab_type": "code",
        "colab": {
          "base_uri": "https://localhost:8080/",
          "height": 34
        },
        "outputId": "7fdef848-9d34-4a86-86fd-4168c70b2995"
      },
      "source": [
        "# predictions의 각 항목은 길이가 46인 벡터입니다.\n",
        "predictions[0].shape"
      ],
      "execution_count": null,
      "outputs": [
        {
          "output_type": "execute_result",
          "data": {
            "text/plain": [
              "(46,)"
            ]
          },
          "metadata": {
            "tags": []
          },
          "execution_count": 73
        }
      ]
    },
    {
      "cell_type": "code",
      "metadata": {
        "id": "TiOCJJXHiBbq",
        "colab_type": "code",
        "colab": {
          "base_uri": "https://localhost:8080/",
          "height": 34
        },
        "outputId": "bcadd817-544b-40d5-e32a-e4f43121d1b3"
      },
      "source": [
        "# 이 벡터의 원소 합은 1입니다.\n",
        "np.sum(predictions[0])"
      ],
      "execution_count": null,
      "outputs": [
        {
          "output_type": "execute_result",
          "data": {
            "text/plain": [
              "1.0000001"
            ]
          },
          "metadata": {
            "tags": []
          },
          "execution_count": 74
        }
      ]
    },
    {
      "cell_type": "code",
      "metadata": {
        "id": "1dehi0oCiFXS",
        "colab_type": "code",
        "colab": {
          "base_uri": "https://localhost:8080/",
          "height": 34
        },
        "outputId": "be36c82b-f58c-48a7-c83a-52cab5a09490"
      },
      "source": [
        "# 가장 큰 값이 예측 클래스가 됩니다. 즉, 가장 확률이 높은 클래스입니다.\n",
        "np.argmax(predictions[0])"
      ],
      "execution_count": null,
      "outputs": [
        {
          "output_type": "execute_result",
          "data": {
            "text/plain": [
              "3"
            ]
          },
          "metadata": {
            "tags": []
          },
          "execution_count": 75
        }
      ]
    },
    {
      "cell_type": "markdown",
      "metadata": {
        "id": "yKjc6QMhikkt",
        "colab_type": "text"
      },
      "source": [
        "**레이블과 손실을 다루는 방법**"
      ]
    },
    {
      "cell_type": "markdown",
      "metadata": {
        "id": "07JA7oxviocT",
        "colab_type": "text"
      },
      "source": [
        "레이블을 인코딩하는 다른 방법은 정수 텐서로 변환하는 것.<br>\n",
        "이 방식을 사용하려면 손실 함수 하나만 바꾸면 됩니다.<br>\n",
        "loss : categorical_crossentropy -> \"sparse_categorical_crossentropy\"로 변경"
      ]
    },
    {
      "cell_type": "code",
      "metadata": {
        "id": "EOxvDTe_iLU2",
        "colab_type": "code",
        "colab": {}
      },
      "source": [
        "y_train = np.array(train_labels)\n",
        "y_test = np.array(test_labels)\n",
        "\n",
        "model.compile(optimizer='rmsprop',loss = 'sparse_categorical_crossentropy',metrics=['acc'])"
      ],
      "execution_count": null,
      "outputs": []
    },
    {
      "cell_type": "markdown",
      "metadata": {
        "id": "h3VnmGTBjFVb",
        "colab_type": "text"
      },
      "source": [
        "**충분히 큰 중간층을 두어야 하는 이유**"
      ]
    },
    {
      "cell_type": "markdown",
      "metadata": {
        "id": "uuhZjmpEjLBM",
        "colab_type": "text"
      },
      "source": [
        "마지막 출력이 46차원이기 때문에 중간 층의 히든 유닛이 46개 보다 많이 적어서는 안됩니다.<br>\n",
        "46차원보다 훨씬 작은 중간층(예를 들면 4차원)을 두면 \"정보의 병목\"이 어떻게 나타나는지 확인해보겠습니다."
      ]
    },
    {
      "cell_type": "code",
      "metadata": {
        "id": "oinDmfobjEN8",
        "colab_type": "code",
        "colab": {}
      },
      "source": [
        "# 정보의 병목이 있는 모델\n",
        "model = models.Sequential()\n",
        "model.add(layers.Dense(64,activation = 'relu',input_shape = (10000,)))\n",
        "model.add(layers.Dense(4,activation = 'relu'))\n",
        "model.add(layers.Dense(46,activation='softmax'))\n",
        "\n",
        "model.compile(optimizer='rmsprop',loss = 'categorical_crossentropy',metrics = 'acc')"
      ],
      "execution_count": null,
      "outputs": []
    },
    {
      "cell_type": "code",
      "metadata": {
        "id": "-cpYxwU0jtfO",
        "colab_type": "code",
        "colab": {
          "base_uri": "https://localhost:8080/",
          "height": 738
        },
        "outputId": "061877bf-9e0b-4a4d-da7f-cd7c2442a19e"
      },
      "source": [
        "model.fit(partial_x_train,partial_y_train,epochs = 20,batch_size = 128,validation_data = (x_val,y_val))"
      ],
      "execution_count": null,
      "outputs": [
        {
          "output_type": "stream",
          "text": [
            "Epoch 1/20\n",
            "63/63 [==============================] - 1s 8ms/step - loss: 3.0847 - acc: 0.2103 - val_loss: 2.3832 - val_acc: 0.3850\n",
            "Epoch 2/20\n",
            "63/63 [==============================] - 0s 6ms/step - loss: 1.9442 - acc: 0.5704 - val_loss: 1.7100 - val_acc: 0.6050\n",
            "Epoch 3/20\n",
            "63/63 [==============================] - 0s 6ms/step - loss: 1.5013 - acc: 0.6353 - val_loss: 1.5262 - val_acc: 0.6320\n",
            "Epoch 4/20\n",
            "63/63 [==============================] - 0s 6ms/step - loss: 1.3041 - acc: 0.6560 - val_loss: 1.4258 - val_acc: 0.6480\n",
            "Epoch 5/20\n",
            "63/63 [==============================] - 0s 6ms/step - loss: 1.1579 - acc: 0.7005 - val_loss: 1.3834 - val_acc: 0.6660\n",
            "Epoch 6/20\n",
            "63/63 [==============================] - 0s 6ms/step - loss: 1.0446 - acc: 0.7156 - val_loss: 1.3567 - val_acc: 0.6730\n",
            "Epoch 7/20\n",
            "63/63 [==============================] - 0s 6ms/step - loss: 0.9512 - acc: 0.7368 - val_loss: 1.3520 - val_acc: 0.6870\n",
            "Epoch 8/20\n",
            "63/63 [==============================] - 0s 6ms/step - loss: 0.8683 - acc: 0.7682 - val_loss: 1.3660 - val_acc: 0.6960\n",
            "Epoch 9/20\n",
            "63/63 [==============================] - 0s 6ms/step - loss: 0.7967 - acc: 0.8003 - val_loss: 1.3677 - val_acc: 0.7090\n",
            "Epoch 10/20\n",
            "63/63 [==============================] - 0s 6ms/step - loss: 0.7316 - acc: 0.8171 - val_loss: 1.3840 - val_acc: 0.7170\n",
            "Epoch 11/20\n",
            "63/63 [==============================] - 0s 6ms/step - loss: 0.6778 - acc: 0.8262 - val_loss: 1.4040 - val_acc: 0.7230\n",
            "Epoch 12/20\n",
            "63/63 [==============================] - 0s 6ms/step - loss: 0.6335 - acc: 0.8361 - val_loss: 1.4372 - val_acc: 0.7240\n",
            "Epoch 13/20\n",
            "63/63 [==============================] - 0s 5ms/step - loss: 0.5928 - acc: 0.8448 - val_loss: 1.5016 - val_acc: 0.7270\n",
            "Epoch 14/20\n",
            "63/63 [==============================] - 0s 6ms/step - loss: 0.5587 - acc: 0.8569 - val_loss: 1.5087 - val_acc: 0.7350\n",
            "Epoch 15/20\n",
            "63/63 [==============================] - 0s 6ms/step - loss: 0.5320 - acc: 0.8624 - val_loss: 1.5785 - val_acc: 0.7300\n",
            "Epoch 16/20\n",
            "63/63 [==============================] - 0s 6ms/step - loss: 0.5057 - acc: 0.8661 - val_loss: 1.6798 - val_acc: 0.7240\n",
            "Epoch 17/20\n",
            "63/63 [==============================] - 0s 6ms/step - loss: 0.4823 - acc: 0.8711 - val_loss: 1.6859 - val_acc: 0.7290\n",
            "Epoch 18/20\n",
            "63/63 [==============================] - 0s 5ms/step - loss: 0.4638 - acc: 0.8726 - val_loss: 1.7586 - val_acc: 0.7170\n",
            "Epoch 19/20\n",
            "63/63 [==============================] - 0s 6ms/step - loss: 0.4483 - acc: 0.8743 - val_loss: 1.8149 - val_acc: 0.7270\n",
            "Epoch 20/20\n",
            "63/63 [==============================] - 0s 5ms/step - loss: 0.4336 - acc: 0.8751 - val_loss: 1.8787 - val_acc: 0.7190\n"
          ],
          "name": "stdout"
        },
        {
          "output_type": "execute_result",
          "data": {
            "text/plain": [
              "<tensorflow.python.keras.callbacks.History at 0x7fb50d91a5f8>"
            ]
          },
          "metadata": {
            "tags": []
          },
          "execution_count": 80
        }
      ]
    },
    {
      "cell_type": "markdown",
      "metadata": {
        "id": "ZSkktWgQkJt6",
        "colab_type": "text"
      },
      "source": [
        "검증 정확도의 최고 값은 약 71%로 8% 정도 감소되었습니다. 이런 손실의 원인 대부분은 많은 정보(클래스 46개의 분할 초평면을 복원하기에 충분한 정보)를 중간층의 저차원 표현 공간으로 압축하려고 했기 때문입니다. 이 네트워크는 필요한 정보 대부분을 4차원 표현 안에 구겨 넣었지만 전부는 넣지 못했습니다."
      ]
    },
    {
      "cell_type": "code",
      "metadata": {
        "id": "N42EvP75kB_E",
        "colab_type": "code",
        "colab": {}
      },
      "source": [
        ""
      ],
      "execution_count": null,
      "outputs": []
    }
  ]
}