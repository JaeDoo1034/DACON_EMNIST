{
  "nbformat": 4,
  "nbformat_minor": 0,
  "metadata": {
    "kernelspec": {
      "display_name": "Python 3",
      "language": "python",
      "name": "python3"
    },
    "language_info": {
      "codemirror_mode": {
        "name": "ipython",
        "version": 3
      },
      "file_extension": ".py",
      "mimetype": "text/x-python",
      "name": "python",
      "nbconvert_exporter": "python",
      "pygments_lexer": "ipython3",
      "version": "3.7.4"
    },
    "colab": {
      "name": "keras,tensorflow로 구현한 CNN.ipynb",
      "provenance": [],
      "include_colab_link": true
    },
    "accelerator": "GPU"
  },
  "cells": [
    {
      "cell_type": "markdown",
      "metadata": {
        "id": "view-in-github",
        "colab_type": "text"
      },
      "source": [
        "<a href=\"https://colab.research.google.com/github/JaeDoo1034/DACON_EMNIST/blob/master/keras%2Ctensorflow%EB%A1%9C_%EA%B5%AC%ED%98%84%ED%95%9C_CNN.ipynb\" target=\"_parent\"><img src=\"https://colab.research.google.com/assets/colab-badge.svg\" alt=\"Open In Colab\"/></a>"
      ]
    },
    {
      "cell_type": "markdown",
      "metadata": {
        "id": "jeY-fkkoPzsn",
        "colab_type": "text"
      },
      "source": [
        "### Keras 와 Tensorflow로 구현한 CNN\n",
        "\n",
        "- CNN을 통해 글자에 가려진(노이즈가 있는) 숫자를 예측하기 위한 모델을 설계해 보았다.\\\n",
        "  (MNIST 데이터위에 필기체인 글씨가 겹쳐져 있는 데이터)\n",
        "\n",
        "- train.csv : 훈련 데이터 2048개\n",
        "- test.csv : 검증 데이터 20480개"
      ]
    },
    {
      "cell_type": "code",
      "metadata": {
        "id": "PPDoDkBdQAxB",
        "colab_type": "code",
        "colab": {
          "base_uri": "https://localhost:8080/",
          "height": 87
        },
        "outputId": "9c6f869f-518d-4b27-fbd7-dd590a3cd295"
      },
      "source": [
        "!pip install -q tensorflow-gpu==2.0.0-rc1"
      ],
      "execution_count": null,
      "outputs": [
        {
          "output_type": "stream",
          "text": [
            "\u001b[K     |████████████████████████████████| 380.5MB 44kB/s \n",
            "\u001b[K     |████████████████████████████████| 501kB 55.6MB/s \n",
            "\u001b[K     |████████████████████████████████| 4.3MB 52.0MB/s \n",
            "\u001b[K     |████████████████████████████████| 51kB 8.7MB/s \n",
            "\u001b[?25h"
          ],
          "name": "stdout"
        }
      ]
    },
    {
      "cell_type": "code",
      "metadata": {
        "id": "RVnDqQbCPzsp",
        "colab_type": "code",
        "colab": {
          "base_uri": "https://localhost:8080/",
          "height": 52
        },
        "outputId": "cf9f8df5-4504-4018-b17e-6bc45d7edbfe"
      },
      "source": [
        "import numpy as np\n",
        "import pandas as pd\n",
        "import seaborn as sns\n",
        "import matplotlib.pyplot as plt\n",
        "%matplotlib inline\n",
        "import matplotlib\n",
        "from matplotlib import font_manager, rc\n",
        "import platform\n",
        "\n",
        "\n",
        "try : \n",
        "    if platform.system() == 'Windows':\n",
        "    # 윈도우인 경우\n",
        "        font_name = font_manager.FontProperties(fname=\"c:/Windows/Fonts/malgun.ttf\").get_name()\n",
        "        rc('font', family=font_name)\n",
        "    else:    \n",
        "    # Mac 인 경우\n",
        "        rc('font', family='AppleGothic')\n",
        "except : \n",
        "    pass\n",
        "matplotlib.rcParams['axes.unicode_minus'] = False   "
      ],
      "execution_count": null,
      "outputs": [
        {
          "output_type": "stream",
          "text": [
            "/usr/local/lib/python3.6/dist-packages/statsmodels/tools/_testing.py:19: FutureWarning: pandas.util.testing is deprecated. Use the functions in the public API at pandas.testing instead.\n",
            "  import pandas.util.testing as tm\n"
          ],
          "name": "stderr"
        }
      ]
    },
    {
      "cell_type": "markdown",
      "metadata": {
        "id": "FWIsjRrWPzsw",
        "colab_type": "text"
      },
      "source": [
        "#### 데이터 불러오기"
      ]
    },
    {
      "cell_type": "code",
      "metadata": {
        "id": "7rToWmNLTRTd",
        "colab_type": "code",
        "colab": {}
      },
      "source": [
        "import io"
      ],
      "execution_count": null,
      "outputs": []
    },
    {
      "cell_type": "code",
      "metadata": {
        "id": "3w6GkG9rRGQ8",
        "colab_type": "code",
        "colab": {
          "resources": {
            "http://localhost:8080/nbextensions/google.colab/files.js": {
              "data": "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",
              "ok": true,
              "headers": [
                [
                  "content-type",
                  "application/javascript"
                ]
              ],
              "status": 200,
              "status_text": ""
            }
          },
          "base_uri": "https://localhost:8080/",
          "height": 110
        },
        "outputId": "83b633c3-42ff-478a-ad99-aea18a12e924"
      },
      "source": [
        "from google.colab import files\n",
        "uploaded = files.upload()"
      ],
      "execution_count": null,
      "outputs": [
        {
          "output_type": "display_data",
          "data": {
            "text/html": [
              "\n",
              "     <input type=\"file\" id=\"files-241d84f5-2639-456e-b02a-afba9aad4d48\" name=\"files[]\" multiple disabled\n",
              "        style=\"border:none\" />\n",
              "     <output id=\"result-241d84f5-2639-456e-b02a-afba9aad4d48\">\n",
              "      Upload widget is only available when the cell has been executed in the\n",
              "      current browser session. Please rerun this cell to enable.\n",
              "      </output>\n",
              "      <script src=\"/nbextensions/google.colab/files.js\"></script> "
            ],
            "text/plain": [
              "<IPython.core.display.HTML object>"
            ]
          },
          "metadata": {
            "tags": []
          }
        },
        {
          "output_type": "stream",
          "text": [
            "Saving test.csv to test.csv\n",
            "Saving train.csv to train.csv\n"
          ],
          "name": "stdout"
        }
      ]
    },
    {
      "cell_type": "code",
      "metadata": {
        "scrolled": true,
        "id": "bJmDcoVgPzsx",
        "colab_type": "code",
        "colab": {
          "base_uri": "https://localhost:8080/",
          "height": 244
        },
        "outputId": "4fe96054-7116-410f-be6c-b4928b6ef239"
      },
      "source": [
        "train = pd.read_csv(io.BytesIO(uploaded['train.csv']))\n",
        "train.head()"
      ],
      "execution_count": null,
      "outputs": [
        {
          "output_type": "execute_result",
          "data": {
            "text/html": [
              "<div>\n",
              "<style scoped>\n",
              "    .dataframe tbody tr th:only-of-type {\n",
              "        vertical-align: middle;\n",
              "    }\n",
              "\n",
              "    .dataframe tbody tr th {\n",
              "        vertical-align: top;\n",
              "    }\n",
              "\n",
              "    .dataframe thead th {\n",
              "        text-align: right;\n",
              "    }\n",
              "</style>\n",
              "<table border=\"1\" class=\"dataframe\">\n",
              "  <thead>\n",
              "    <tr style=\"text-align: right;\">\n",
              "      <th></th>\n",
              "      <th>id</th>\n",
              "      <th>digit</th>\n",
              "      <th>letter</th>\n",
              "      <th>0</th>\n",
              "      <th>1</th>\n",
              "      <th>2</th>\n",
              "      <th>3</th>\n",
              "      <th>4</th>\n",
              "      <th>5</th>\n",
              "      <th>6</th>\n",
              "      <th>7</th>\n",
              "      <th>8</th>\n",
              "      <th>9</th>\n",
              "      <th>10</th>\n",
              "      <th>11</th>\n",
              "      <th>12</th>\n",
              "      <th>13</th>\n",
              "      <th>14</th>\n",
              "      <th>15</th>\n",
              "      <th>16</th>\n",
              "      <th>17</th>\n",
              "      <th>18</th>\n",
              "      <th>19</th>\n",
              "      <th>20</th>\n",
              "      <th>21</th>\n",
              "      <th>22</th>\n",
              "      <th>23</th>\n",
              "      <th>24</th>\n",
              "      <th>25</th>\n",
              "      <th>26</th>\n",
              "      <th>27</th>\n",
              "      <th>28</th>\n",
              "      <th>29</th>\n",
              "      <th>30</th>\n",
              "      <th>31</th>\n",
              "      <th>32</th>\n",
              "      <th>33</th>\n",
              "      <th>34</th>\n",
              "      <th>35</th>\n",
              "      <th>36</th>\n",
              "      <th>...</th>\n",
              "      <th>744</th>\n",
              "      <th>745</th>\n",
              "      <th>746</th>\n",
              "      <th>747</th>\n",
              "      <th>748</th>\n",
              "      <th>749</th>\n",
              "      <th>750</th>\n",
              "      <th>751</th>\n",
              "      <th>752</th>\n",
              "      <th>753</th>\n",
              "      <th>754</th>\n",
              "      <th>755</th>\n",
              "      <th>756</th>\n",
              "      <th>757</th>\n",
              "      <th>758</th>\n",
              "      <th>759</th>\n",
              "      <th>760</th>\n",
              "      <th>761</th>\n",
              "      <th>762</th>\n",
              "      <th>763</th>\n",
              "      <th>764</th>\n",
              "      <th>765</th>\n",
              "      <th>766</th>\n",
              "      <th>767</th>\n",
              "      <th>768</th>\n",
              "      <th>769</th>\n",
              "      <th>770</th>\n",
              "      <th>771</th>\n",
              "      <th>772</th>\n",
              "      <th>773</th>\n",
              "      <th>774</th>\n",
              "      <th>775</th>\n",
              "      <th>776</th>\n",
              "      <th>777</th>\n",
              "      <th>778</th>\n",
              "      <th>779</th>\n",
              "      <th>780</th>\n",
              "      <th>781</th>\n",
              "      <th>782</th>\n",
              "      <th>783</th>\n",
              "    </tr>\n",
              "  </thead>\n",
              "  <tbody>\n",
              "    <tr>\n",
              "      <th>0</th>\n",
              "      <td>1</td>\n",
              "      <td>5</td>\n",
              "      <td>L</td>\n",
              "      <td>1</td>\n",
              "      <td>1</td>\n",
              "      <td>1</td>\n",
              "      <td>4</td>\n",
              "      <td>3</td>\n",
              "      <td>0</td>\n",
              "      <td>0</td>\n",
              "      <td>4</td>\n",
              "      <td>4</td>\n",
              "      <td>3</td>\n",
              "      <td>0</td>\n",
              "      <td>4</td>\n",
              "      <td>3</td>\n",
              "      <td>3</td>\n",
              "      <td>3</td>\n",
              "      <td>4</td>\n",
              "      <td>4</td>\n",
              "      <td>0</td>\n",
              "      <td>0</td>\n",
              "      <td>1</td>\n",
              "      <td>1</td>\n",
              "      <td>3</td>\n",
              "      <td>4</td>\n",
              "      <td>0</td>\n",
              "      <td>4</td>\n",
              "      <td>2</td>\n",
              "      <td>0</td>\n",
              "      <td>4</td>\n",
              "      <td>0</td>\n",
              "      <td>1</td>\n",
              "      <td>3</td>\n",
              "      <td>1</td>\n",
              "      <td>0</td>\n",
              "      <td>4</td>\n",
              "      <td>1</td>\n",
              "      <td>1</td>\n",
              "      <td>3</td>\n",
              "      <td>...</td>\n",
              "      <td>4</td>\n",
              "      <td>3</td>\n",
              "      <td>4</td>\n",
              "      <td>1</td>\n",
              "      <td>3</td>\n",
              "      <td>0</td>\n",
              "      <td>0</td>\n",
              "      <td>1</td>\n",
              "      <td>3</td>\n",
              "      <td>3</td>\n",
              "      <td>3</td>\n",
              "      <td>0</td>\n",
              "      <td>3</td>\n",
              "      <td>2</td>\n",
              "      <td>2</td>\n",
              "      <td>1</td>\n",
              "      <td>0</td>\n",
              "      <td>1</td>\n",
              "      <td>0</td>\n",
              "      <td>0</td>\n",
              "      <td>3</td>\n",
              "      <td>0</td>\n",
              "      <td>0</td>\n",
              "      <td>4</td>\n",
              "      <td>2</td>\n",
              "      <td>0</td>\n",
              "      <td>3</td>\n",
              "      <td>4</td>\n",
              "      <td>1</td>\n",
              "      <td>1</td>\n",
              "      <td>2</td>\n",
              "      <td>1</td>\n",
              "      <td>0</td>\n",
              "      <td>1</td>\n",
              "      <td>2</td>\n",
              "      <td>4</td>\n",
              "      <td>4</td>\n",
              "      <td>4</td>\n",
              "      <td>3</td>\n",
              "      <td>4</td>\n",
              "    </tr>\n",
              "    <tr>\n",
              "      <th>1</th>\n",
              "      <td>2</td>\n",
              "      <td>0</td>\n",
              "      <td>B</td>\n",
              "      <td>0</td>\n",
              "      <td>4</td>\n",
              "      <td>0</td>\n",
              "      <td>0</td>\n",
              "      <td>4</td>\n",
              "      <td>1</td>\n",
              "      <td>1</td>\n",
              "      <td>1</td>\n",
              "      <td>4</td>\n",
              "      <td>2</td>\n",
              "      <td>0</td>\n",
              "      <td>3</td>\n",
              "      <td>4</td>\n",
              "      <td>0</td>\n",
              "      <td>0</td>\n",
              "      <td>2</td>\n",
              "      <td>3</td>\n",
              "      <td>4</td>\n",
              "      <td>0</td>\n",
              "      <td>3</td>\n",
              "      <td>4</td>\n",
              "      <td>3</td>\n",
              "      <td>0</td>\n",
              "      <td>2</td>\n",
              "      <td>2</td>\n",
              "      <td>1</td>\n",
              "      <td>4</td>\n",
              "      <td>2</td>\n",
              "      <td>3</td>\n",
              "      <td>3</td>\n",
              "      <td>4</td>\n",
              "      <td>1</td>\n",
              "      <td>2</td>\n",
              "      <td>4</td>\n",
              "      <td>2</td>\n",
              "      <td>0</td>\n",
              "      <td>3</td>\n",
              "      <td>...</td>\n",
              "      <td>4</td>\n",
              "      <td>2</td>\n",
              "      <td>3</td>\n",
              "      <td>0</td>\n",
              "      <td>0</td>\n",
              "      <td>0</td>\n",
              "      <td>0</td>\n",
              "      <td>4</td>\n",
              "      <td>3</td>\n",
              "      <td>2</td>\n",
              "      <td>2</td>\n",
              "      <td>4</td>\n",
              "      <td>2</td>\n",
              "      <td>1</td>\n",
              "      <td>1</td>\n",
              "      <td>1</td>\n",
              "      <td>3</td>\n",
              "      <td>3</td>\n",
              "      <td>1</td>\n",
              "      <td>2</td>\n",
              "      <td>4</td>\n",
              "      <td>4</td>\n",
              "      <td>4</td>\n",
              "      <td>2</td>\n",
              "      <td>2</td>\n",
              "      <td>4</td>\n",
              "      <td>4</td>\n",
              "      <td>0</td>\n",
              "      <td>4</td>\n",
              "      <td>2</td>\n",
              "      <td>0</td>\n",
              "      <td>3</td>\n",
              "      <td>0</td>\n",
              "      <td>1</td>\n",
              "      <td>4</td>\n",
              "      <td>1</td>\n",
              "      <td>4</td>\n",
              "      <td>2</td>\n",
              "      <td>1</td>\n",
              "      <td>2</td>\n",
              "    </tr>\n",
              "    <tr>\n",
              "      <th>2</th>\n",
              "      <td>3</td>\n",
              "      <td>4</td>\n",
              "      <td>L</td>\n",
              "      <td>1</td>\n",
              "      <td>1</td>\n",
              "      <td>2</td>\n",
              "      <td>2</td>\n",
              "      <td>1</td>\n",
              "      <td>1</td>\n",
              "      <td>1</td>\n",
              "      <td>0</td>\n",
              "      <td>2</td>\n",
              "      <td>1</td>\n",
              "      <td>3</td>\n",
              "      <td>2</td>\n",
              "      <td>2</td>\n",
              "      <td>2</td>\n",
              "      <td>4</td>\n",
              "      <td>1</td>\n",
              "      <td>1</td>\n",
              "      <td>4</td>\n",
              "      <td>1</td>\n",
              "      <td>0</td>\n",
              "      <td>1</td>\n",
              "      <td>3</td>\n",
              "      <td>4</td>\n",
              "      <td>2</td>\n",
              "      <td>2</td>\n",
              "      <td>2</td>\n",
              "      <td>4</td>\n",
              "      <td>1</td>\n",
              "      <td>1</td>\n",
              "      <td>2</td>\n",
              "      <td>0</td>\n",
              "      <td>3</td>\n",
              "      <td>0</td>\n",
              "      <td>2</td>\n",
              "      <td>3</td>\n",
              "      <td>4</td>\n",
              "      <td>0</td>\n",
              "      <td>...</td>\n",
              "      <td>3</td>\n",
              "      <td>0</td>\n",
              "      <td>4</td>\n",
              "      <td>0</td>\n",
              "      <td>3</td>\n",
              "      <td>0</td>\n",
              "      <td>2</td>\n",
              "      <td>0</td>\n",
              "      <td>1</td>\n",
              "      <td>4</td>\n",
              "      <td>2</td>\n",
              "      <td>3</td>\n",
              "      <td>4</td>\n",
              "      <td>4</td>\n",
              "      <td>4</td>\n",
              "      <td>0</td>\n",
              "      <td>2</td>\n",
              "      <td>0</td>\n",
              "      <td>4</td>\n",
              "      <td>4</td>\n",
              "      <td>1</td>\n",
              "      <td>3</td>\n",
              "      <td>0</td>\n",
              "      <td>3</td>\n",
              "      <td>2</td>\n",
              "      <td>0</td>\n",
              "      <td>2</td>\n",
              "      <td>3</td>\n",
              "      <td>0</td>\n",
              "      <td>2</td>\n",
              "      <td>3</td>\n",
              "      <td>3</td>\n",
              "      <td>3</td>\n",
              "      <td>0</td>\n",
              "      <td>2</td>\n",
              "      <td>0</td>\n",
              "      <td>3</td>\n",
              "      <td>0</td>\n",
              "      <td>2</td>\n",
              "      <td>2</td>\n",
              "    </tr>\n",
              "    <tr>\n",
              "      <th>3</th>\n",
              "      <td>4</td>\n",
              "      <td>9</td>\n",
              "      <td>D</td>\n",
              "      <td>1</td>\n",
              "      <td>2</td>\n",
              "      <td>0</td>\n",
              "      <td>2</td>\n",
              "      <td>0</td>\n",
              "      <td>4</td>\n",
              "      <td>0</td>\n",
              "      <td>3</td>\n",
              "      <td>4</td>\n",
              "      <td>3</td>\n",
              "      <td>1</td>\n",
              "      <td>0</td>\n",
              "      <td>3</td>\n",
              "      <td>2</td>\n",
              "      <td>2</td>\n",
              "      <td>0</td>\n",
              "      <td>3</td>\n",
              "      <td>4</td>\n",
              "      <td>1</td>\n",
              "      <td>0</td>\n",
              "      <td>4</td>\n",
              "      <td>1</td>\n",
              "      <td>2</td>\n",
              "      <td>2</td>\n",
              "      <td>3</td>\n",
              "      <td>2</td>\n",
              "      <td>2</td>\n",
              "      <td>0</td>\n",
              "      <td>2</td>\n",
              "      <td>0</td>\n",
              "      <td>3</td>\n",
              "      <td>0</td>\n",
              "      <td>3</td>\n",
              "      <td>2</td>\n",
              "      <td>4</td>\n",
              "      <td>0</td>\n",
              "      <td>0</td>\n",
              "      <td>...</td>\n",
              "      <td>0</td>\n",
              "      <td>3</td>\n",
              "      <td>0</td>\n",
              "      <td>1</td>\n",
              "      <td>4</td>\n",
              "      <td>1</td>\n",
              "      <td>3</td>\n",
              "      <td>1</td>\n",
              "      <td>2</td>\n",
              "      <td>1</td>\n",
              "      <td>1</td>\n",
              "      <td>1</td>\n",
              "      <td>2</td>\n",
              "      <td>2</td>\n",
              "      <td>2</td>\n",
              "      <td>4</td>\n",
              "      <td>3</td>\n",
              "      <td>4</td>\n",
              "      <td>3</td>\n",
              "      <td>0</td>\n",
              "      <td>4</td>\n",
              "      <td>1</td>\n",
              "      <td>2</td>\n",
              "      <td>4</td>\n",
              "      <td>1</td>\n",
              "      <td>4</td>\n",
              "      <td>0</td>\n",
              "      <td>1</td>\n",
              "      <td>0</td>\n",
              "      <td>4</td>\n",
              "      <td>3</td>\n",
              "      <td>3</td>\n",
              "      <td>2</td>\n",
              "      <td>0</td>\n",
              "      <td>1</td>\n",
              "      <td>4</td>\n",
              "      <td>0</td>\n",
              "      <td>0</td>\n",
              "      <td>1</td>\n",
              "      <td>1</td>\n",
              "    </tr>\n",
              "    <tr>\n",
              "      <th>4</th>\n",
              "      <td>5</td>\n",
              "      <td>6</td>\n",
              "      <td>A</td>\n",
              "      <td>3</td>\n",
              "      <td>0</td>\n",
              "      <td>2</td>\n",
              "      <td>4</td>\n",
              "      <td>0</td>\n",
              "      <td>3</td>\n",
              "      <td>0</td>\n",
              "      <td>4</td>\n",
              "      <td>2</td>\n",
              "      <td>4</td>\n",
              "      <td>2</td>\n",
              "      <td>1</td>\n",
              "      <td>4</td>\n",
              "      <td>1</td>\n",
              "      <td>1</td>\n",
              "      <td>4</td>\n",
              "      <td>4</td>\n",
              "      <td>0</td>\n",
              "      <td>2</td>\n",
              "      <td>3</td>\n",
              "      <td>4</td>\n",
              "      <td>4</td>\n",
              "      <td>3</td>\n",
              "      <td>3</td>\n",
              "      <td>3</td>\n",
              "      <td>3</td>\n",
              "      <td>4</td>\n",
              "      <td>1</td>\n",
              "      <td>0</td>\n",
              "      <td>3</td>\n",
              "      <td>0</td>\n",
              "      <td>3</td>\n",
              "      <td>0</td>\n",
              "      <td>0</td>\n",
              "      <td>0</td>\n",
              "      <td>1</td>\n",
              "      <td>1</td>\n",
              "      <td>...</td>\n",
              "      <td>2</td>\n",
              "      <td>1</td>\n",
              "      <td>3</td>\n",
              "      <td>2</td>\n",
              "      <td>1</td>\n",
              "      <td>4</td>\n",
              "      <td>2</td>\n",
              "      <td>3</td>\n",
              "      <td>2</td>\n",
              "      <td>2</td>\n",
              "      <td>1</td>\n",
              "      <td>0</td>\n",
              "      <td>4</td>\n",
              "      <td>2</td>\n",
              "      <td>2</td>\n",
              "      <td>1</td>\n",
              "      <td>2</td>\n",
              "      <td>1</td>\n",
              "      <td>0</td>\n",
              "      <td>3</td>\n",
              "      <td>2</td>\n",
              "      <td>2</td>\n",
              "      <td>2</td>\n",
              "      <td>2</td>\n",
              "      <td>1</td>\n",
              "      <td>4</td>\n",
              "      <td>2</td>\n",
              "      <td>1</td>\n",
              "      <td>2</td>\n",
              "      <td>1</td>\n",
              "      <td>4</td>\n",
              "      <td>4</td>\n",
              "      <td>3</td>\n",
              "      <td>2</td>\n",
              "      <td>1</td>\n",
              "      <td>3</td>\n",
              "      <td>4</td>\n",
              "      <td>3</td>\n",
              "      <td>1</td>\n",
              "      <td>2</td>\n",
              "    </tr>\n",
              "  </tbody>\n",
              "</table>\n",
              "<p>5 rows × 787 columns</p>\n",
              "</div>"
            ],
            "text/plain": [
              "   id  digit letter  0  1  2  3  4  ...  776  777  778  779  780  781  782  783\n",
              "0   1      5      L  1  1  1  4  3  ...    0    1    2    4    4    4    3    4\n",
              "1   2      0      B  0  4  0  0  4  ...    0    1    4    1    4    2    1    2\n",
              "2   3      4      L  1  1  2  2  1  ...    3    0    2    0    3    0    2    2\n",
              "3   4      9      D  1  2  0  2  0  ...    2    0    1    4    0    0    1    1\n",
              "4   5      6      A  3  0  2  4  0  ...    3    2    1    3    4    3    1    2\n",
              "\n",
              "[5 rows x 787 columns]"
            ]
          },
          "metadata": {
            "tags": []
          },
          "execution_count": 4
        }
      ]
    },
    {
      "cell_type": "markdown",
      "metadata": {
        "id": "GPxbiYCrPzs3",
        "colab_type": "text"
      },
      "source": [
        "#### 데이터는 28*28의 2차원 이미지의 형태"
      ]
    },
    {
      "cell_type": "code",
      "metadata": {
        "id": "fczlRmM4nayc",
        "colab_type": "code",
        "colab": {
          "base_uri": "https://localhost:8080/",
          "height": 210
        },
        "outputId": "c59233ea-a3dd-4350-c624-952a8ffb7d74"
      },
      "source": [
        "train.digit.value_counts() /train.digit.value_counts().sum()"
      ],
      "execution_count": null,
      "outputs": [
        {
          "output_type": "execute_result",
          "data": {
            "text/plain": [
              "2    0.113770\n",
              "5    0.109863\n",
              "6    0.103516\n",
              "4    0.101074\n",
              "3    0.100098\n",
              "1    0.098633\n",
              "9    0.096191\n",
              "7    0.094727\n",
              "0    0.093262\n",
              "8    0.088867\n",
              "Name: digit, dtype: float64"
            ]
          },
          "metadata": {
            "tags": []
          },
          "execution_count": 53
        }
      ]
    },
    {
      "cell_type": "code",
      "metadata": {
        "scrolled": true,
        "id": "aeIzi7sAPzs4",
        "colab_type": "code",
        "colab": {
          "base_uri": "https://localhost:8080/",
          "height": 34
        },
        "outputId": "1fe94d8b-edcd-454c-87dc-540fd5dc7ac5"
      },
      "source": [
        "#28*28 의 형태\n",
        "train.shape"
      ],
      "execution_count": null,
      "outputs": [
        {
          "output_type": "execute_result",
          "data": {
            "text/plain": [
              "(2048, 787)"
            ]
          },
          "metadata": {
            "tags": []
          },
          "execution_count": 5
        }
      ]
    },
    {
      "cell_type": "markdown",
      "metadata": {
        "id": "JI_dnmeePzs9",
        "colab_type": "text"
      },
      "source": [
        "target의 category / 가리고 있는 글자의 category"
      ]
    },
    {
      "cell_type": "code",
      "metadata": {
        "scrolled": true,
        "id": "VVMWA4j9Pzs-",
        "colab_type": "code",
        "colab": {
          "base_uri": "https://localhost:8080/",
          "height": 70
        },
        "outputId": "979b34cc-ca09-46ad-efa6-641025ebdae7"
      },
      "source": [
        "#고유값들 뽑아내기\n",
        "label1=train['letter'].unique()\n",
        "label2=train['digit'].unique()\n",
        "print(\"letter:\",np.sort(label1))\n",
        "print(\"digit:\",np.sort(label2))"
      ],
      "execution_count": null,
      "outputs": [
        {
          "output_type": "stream",
          "text": [
            "letter: ['A' 'B' 'C' 'D' 'E' 'F' 'G' 'H' 'I' 'J' 'K' 'L' 'M' 'N' 'O' 'P' 'Q' 'R'\n",
            " 'S' 'T' 'U' 'V' 'W' 'X' 'Y' 'Z']\n",
            "digit: [0 1 2 3 4 5 6 7 8 9]\n"
          ],
          "name": "stdout"
        }
      ]
    },
    {
      "cell_type": "markdown",
      "metadata": {
        "id": "AQVPV-3yPztC",
        "colab_type": "text"
      },
      "source": [
        "#### CNN 모델에 이미지를 넣기 위해서는 3차원의 형태로 변환을 해 주어야 한다.\n",
        "- 여기서 초기 이미지는 28*28의 형태이므로\\\n",
        "  (데이터 수, 28, 28)의 형태로 변환한다."
      ]
    },
    {
      "cell_type": "code",
      "metadata": {
        "id": "VhW_-xWbPztD",
        "colab_type": "code",
        "colab": {
          "base_uri": "https://localhost:8080/",
          "height": 34
        },
        "outputId": "a25e7dce-9f51-4485-f47c-e0c1acf10f20"
      },
      "source": [
        "#이미지데이터를 28*28의 형태로 변환\n",
        "image=np.array(train.iloc[:,3:]).reshape(-1,28,28)\n",
        "image.shape"
      ],
      "execution_count": null,
      "outputs": [
        {
          "output_type": "execute_result",
          "data": {
            "text/plain": [
              "(2048, 28, 28)"
            ]
          },
          "metadata": {
            "tags": []
          },
          "execution_count": 7
        }
      ]
    },
    {
      "cell_type": "code",
      "metadata": {
        "scrolled": false,
        "id": "bi118ccBPztI",
        "colab_type": "code",
        "colab": {
          "base_uri": "https://localhost:8080/",
          "height": 879
        },
        "outputId": "a35c393a-84af-4104-c707-bd84b429132a"
      },
      "source": [
        "image"
      ],
      "execution_count": null,
      "outputs": [
        {
          "output_type": "execute_result",
          "data": {
            "text/plain": [
              "array([[[1, 1, 1, ..., 2, 0, 4],\n",
              "        [0, 1, 3, ..., 4, 1, 3],\n",
              "        [2, 0, 4, ..., 3, 3, 3],\n",
              "        ...,\n",
              "        [2, 1, 2, ..., 4, 1, 0],\n",
              "        [3, 3, 3, ..., 3, 3, 0],\n",
              "        [3, 2, 2, ..., 4, 3, 4]],\n",
              "\n",
              "       [[0, 4, 0, ..., 1, 4, 2],\n",
              "        [3, 3, 4, ..., 3, 4, 2],\n",
              "        [1, 4, 2, ..., 4, 0, 4],\n",
              "        ...,\n",
              "        [2, 4, 4, ..., 0, 0, 1],\n",
              "        [3, 1, 4, ..., 2, 2, 4],\n",
              "        [2, 1, 1, ..., 2, 1, 2]],\n",
              "\n",
              "       [[1, 1, 2, ..., 2, 4, 1],\n",
              "        [1, 2, 0, ..., 2, 4, 0],\n",
              "        [4, 2, 0, ..., 1, 3, 3],\n",
              "        ...,\n",
              "        [3, 0, 1, ..., 2, 2, 1],\n",
              "        [0, 3, 2, ..., 4, 2, 3],\n",
              "        [4, 4, 4, ..., 0, 2, 2]],\n",
              "\n",
              "       ...,\n",
              "\n",
              "       [[4, 0, 4, ..., 3, 2, 3],\n",
              "        [4, 3, 1, ..., 4, 4, 4],\n",
              "        [3, 2, 0, ..., 1, 3, 0],\n",
              "        ...,\n",
              "        [4, 0, 4, ..., 0, 2, 0],\n",
              "        [4, 3, 1, ..., 0, 4, 4],\n",
              "        [1, 3, 3, ..., 2, 0, 0]],\n",
              "\n",
              "       [[2, 3, 3, ..., 0, 1, 2],\n",
              "        [4, 1, 4, ..., 4, 0, 0],\n",
              "        [3, 1, 3, ..., 3, 3, 3],\n",
              "        ...,\n",
              "        [1, 1, 4, ..., 1, 0, 0],\n",
              "        [4, 4, 0, ..., 0, 1, 0],\n",
              "        [1, 0, 1, ..., 4, 3, 1]],\n",
              "\n",
              "       [[4, 2, 2, ..., 3, 1, 2],\n",
              "        [0, 2, 4, ..., 0, 3, 3],\n",
              "        [4, 1, 4, ..., 4, 4, 4],\n",
              "        ...,\n",
              "        [0, 0, 2, ..., 3, 2, 2],\n",
              "        [2, 3, 2, ..., 0, 1, 0],\n",
              "        [0, 3, 3, ..., 4, 3, 4]]])"
            ]
          },
          "metadata": {
            "tags": []
          },
          "execution_count": 8
        }
      ]
    },
    {
      "cell_type": "markdown",
      "metadata": {
        "id": "602oZ03wPztN",
        "colab_type": "text"
      },
      "source": [
        "### 현재 데이터가 어떤 이미지를 구성하고 있는지 알아본다."
      ]
    },
    {
      "cell_type": "code",
      "metadata": {
        "id": "ErIV4-iZPztO",
        "colab_type": "code",
        "colab": {
          "base_uri": "https://localhost:8080/",
          "height": 1000
        },
        "outputId": "7c84e00d-7e8a-44ff-9fd1-107cb184e0d7"
      },
      "source": [
        "#몇개의 이미지가 어떤 형태인지 살펴 본다. random 하게 \n",
        "import random\n",
        "\n",
        "for i in range(10):\n",
        "    ran=random.randint(0,2048)\n",
        "    image=np.array(train.iloc[[ran],3:]).reshape(28,28).astype(np.float)\n",
        "    plt.imshow(image,cmap='gray')\n",
        "    plt.show()\n",
        "    print(\"id:\",ran+1)\n",
        "    print(\"letter:\",train.iloc[ran]['letter'])\n",
        "    print(\"digit:\",train.iloc[ran]['digit'])"
      ],
      "execution_count": null,
      "outputs": [
        {
          "output_type": "stream",
          "text": [
            "findfont: Font family ['AppleGothic'] not found. Falling back to DejaVu Sans.\n"
          ],
          "name": "stderr"
        },
        {
          "output_type": "display_data",
          "data": {
            "image/png": "[encoded data removed]",
            "text/plain": [
              "<Figure size 432x288 with 1 Axes>"
            ]
          },
          "metadata": {
            "tags": [],
            "needs_background": "light"
          }
        },
        {
          "output_type": "stream",
          "text": [
            "id: 68\n",
            "letter: L\n",
            "digit: 0\n"
          ],
          "name": "stdout"
        },
        {
          "output_type": "display_data",
          "data": {
            "image/png": "[encoded data removed]",
            "text/plain": [
              "<Figure size 432x288 with 1 Axes>"
            ]
          },
          "metadata": {
            "tags": [],
            "needs_background": "light"
          }
        },
        {
          "output_type": "stream",
          "text": [
            "id: 710\n",
            "letter: D\n",
            "digit: 2\n"
          ],
          "name": "stdout"
        },
        {
          "output_type": "display_data",
          "data": {
            "image/png": "[encoded data removed]",
            "text/plain": [
              "<Figure size 432x288 with 1 Axes>"
            ]
          },
          "metadata": {
            "tags": [],
            "needs_background": "light"
          }
        },
        {
          "output_type": "stream",
          "text": [
            "id: 1269\n",
            "letter: H\n",
            "digit: 7\n"
          ],
          "name": "stdout"
        },
        {
          "output_type": "display_data",
          "data": {
            "image/png": "[encoded data removed]",
            "text/plain": [
              "<Figure size 432x288 with 1 Axes>"
            ]
          },
          "metadata": {
            "tags": [],
            "needs_background": "light"
          }
        },
        {
          "output_type": "stream",
          "text": [
            "id: 550\n",
            "letter: D\n",
            "digit: 2\n"
          ],
          "name": "stdout"
        },
        {
          "output_type": "display_data",
          "data": {
            "image/png": "[encoded data removed]",
            "text/plain": [
              "<Figure size 432x288 with 1 Axes>"
            ]
          },
          "metadata": {
            "tags": [],
            "needs_background": "light"
          }
        },
        {
          "output_type": "stream",
          "text": [
            "id: 1301\n",
            "letter: N\n",
            "digit: 2\n"
          ],
          "name": "stdout"
        },
        {
          "output_type": "display_data",
          "data": {
            "image/png": "[encoded data removed]",
            "text/plain": [
              "<Figure size 432x288 with 1 Axes>"
            ]
          },
          "metadata": {
            "tags": [],
            "needs_background": "light"
          }
        },
        {
          "output_type": "stream",
          "text": [
            "id: 1612\n",
            "letter: X\n",
            "digit: 5\n"
          ],
          "name": "stdout"
        },
        {
          "output_type": "display_data",
          "data": {
            "image/png": "[encoded data removed]",
            "text/plain": [
              "<Figure size 432x288 with 1 Axes>"
            ]
          },
          "metadata": {
            "tags": [],
            "needs_background": "light"
          }
        },
        {
          "output_type": "stream",
          "text": [
            "id: 553\n",
            "letter: L\n",
            "digit: 5\n"
          ],
          "name": "stdout"
        },
        {
          "output_type": "display_data",
          "data": {
            "image/png": "[encoded data removed]",
            "text/plain": [
              "<Figure size 432x288 with 1 Axes>"
            ]
          },
          "metadata": {
            "tags": [],
            "needs_background": "light"
          }
        },
        {
          "output_type": "stream",
          "text": [
            "id: 226\n",
            "letter: S\n",
            "digit: 2\n"
          ],
          "name": "stdout"
        },
        {
          "output_type": "display_data",
          "data": {
            "image/png": "[encoded data removed]",
            "text/plain": [
              "<Figure size 432x288 with 1 Axes>"
            ]
          },
          "metadata": {
            "tags": [],
            "needs_background": "light"
          }
        },
        {
          "output_type": "stream",
          "text": [
            "id: 230\n",
            "letter: H\n",
            "digit: 2\n"
          ],
          "name": "stdout"
        },
        {
          "output_type": "display_data",
          "data": {
            "image/png": "[encoded data removed]",
            "text/plain": [
              "<Figure size 432x288 with 1 Axes>"
            ]
          },
          "metadata": {
            "tags": [],
            "needs_background": "light"
          }
        },
        {
          "output_type": "stream",
          "text": [
            "id: 920\n",
            "letter: Z\n",
            "digit: 0\n"
          ],
          "name": "stdout"
        }
      ]
    },
    {
      "cell_type": "markdown",
      "metadata": {
        "id": "O0qz5gmhPztj",
        "colab_type": "text"
      },
      "source": [
        "### CNN 사용"
      ]
    },
    {
      "cell_type": "code",
      "metadata": {
        "id": "YfSd1SLZUPEy",
        "colab_type": "code",
        "colab": {
          "base_uri": "https://localhost:8080/",
          "height": 668
        },
        "outputId": "28c5a924-f44d-48df-dda2-8839c228af83"
      },
      "source": [
        "!pip install --upgrade tensorflow"
      ],
      "execution_count": null,
      "outputs": [
        {
          "output_type": "stream",
          "text": [
            "Requirement already up-to-date: tensorflow in /usr/local/lib/python3.6/dist-packages (2.3.0)\n",
            "Requirement already satisfied, skipping upgrade: six>=1.12.0 in /usr/local/lib/python3.6/dist-packages (from tensorflow) (1.15.0)\n",
            "Requirement already satisfied, skipping upgrade: protobuf>=3.9.2 in /usr/local/lib/python3.6/dist-packages (from tensorflow) (3.12.4)\n",
            "Requirement already satisfied, skipping upgrade: wrapt>=1.11.1 in /usr/local/lib/python3.6/dist-packages (from tensorflow) (1.12.1)\n",
            "Requirement already satisfied, skipping upgrade: termcolor>=1.1.0 in /usr/local/lib/python3.6/dist-packages (from tensorflow) (1.1.0)\n",
            "Requirement already satisfied, skipping upgrade: absl-py>=0.7.0 in /usr/local/lib/python3.6/dist-packages (from tensorflow) (0.8.1)\n",
            "Requirement already satisfied, skipping upgrade: tensorboard<3,>=2.3.0 in /usr/local/lib/python3.6/dist-packages (from tensorflow) (2.3.0)\n",
            "Requirement already satisfied, skipping upgrade: wheel>=0.26 in /usr/local/lib/python3.6/dist-packages (from tensorflow) (0.35.1)\n",
            "Requirement already satisfied, skipping upgrade: opt-einsum>=2.3.2 in /usr/local/lib/python3.6/dist-packages (from tensorflow) (3.3.0)\n",
            "Requirement already satisfied, skipping upgrade: h5py<2.11.0,>=2.10.0 in /usr/local/lib/python3.6/dist-packages (from tensorflow) (2.10.0)\n",
            "Requirement already satisfied, skipping upgrade: grpcio>=1.8.6 in /usr/local/lib/python3.6/dist-packages (from tensorflow) (1.31.0)\n",
            "Requirement already satisfied, skipping upgrade: scipy==1.4.1 in /usr/local/lib/python3.6/dist-packages (from tensorflow) (1.4.1)\n",
            "Requirement already satisfied, skipping upgrade: numpy<1.19.0,>=1.16.0 in /usr/local/lib/python3.6/dist-packages (from tensorflow) (1.18.5)\n",
            "Requirement already satisfied, skipping upgrade: tensorflow-estimator<2.4.0,>=2.3.0 in /usr/local/lib/python3.6/dist-packages (from tensorflow) (2.3.0)\n",
            "Requirement already satisfied, skipping upgrade: astunparse==1.6.3 in /usr/local/lib/python3.6/dist-packages (from tensorflow) (1.6.3)\n",
            "Requirement already satisfied, skipping upgrade: google-pasta>=0.1.8 in /usr/local/lib/python3.6/dist-packages (from tensorflow) (0.2.0)\n",
            "Requirement already satisfied, skipping upgrade: gast==0.3.3 in /usr/local/lib/python3.6/dist-packages (from tensorflow) (0.3.3)\n",
            "Requirement already satisfied, skipping upgrade: keras-preprocessing<1.2,>=1.1.1 in /usr/local/lib/python3.6/dist-packages (from tensorflow) (1.1.2)\n",
            "Requirement already satisfied, skipping upgrade: setuptools in /usr/local/lib/python3.6/dist-packages (from protobuf>=3.9.2->tensorflow) (49.6.0)\n",
            "Requirement already satisfied, skipping upgrade: google-auth-oauthlib<0.5,>=0.4.1 in /usr/local/lib/python3.6/dist-packages (from tensorboard<3,>=2.3.0->tensorflow) (0.4.1)\n",
            "Requirement already satisfied, skipping upgrade: markdown>=2.6.8 in /usr/local/lib/python3.6/dist-packages (from tensorboard<3,>=2.3.0->tensorflow) (3.2.2)\n",
            "Requirement already satisfied, skipping upgrade: requests<3,>=2.21.0 in /usr/local/lib/python3.6/dist-packages (from tensorboard<3,>=2.3.0->tensorflow) (2.23.0)\n",
            "Requirement already satisfied, skipping upgrade: tensorboard-plugin-wit>=1.6.0 in /usr/local/lib/python3.6/dist-packages (from tensorboard<3,>=2.3.0->tensorflow) (1.7.0)\n",
            "Requirement already satisfied, skipping upgrade: google-auth<2,>=1.6.3 in /usr/local/lib/python3.6/dist-packages (from tensorboard<3,>=2.3.0->tensorflow) (1.17.2)\n",
            "Requirement already satisfied, skipping upgrade: werkzeug>=0.11.15 in /usr/local/lib/python3.6/dist-packages (from tensorboard<3,>=2.3.0->tensorflow) (1.0.1)\n",
            "Requirement already satisfied, skipping upgrade: requests-oauthlib>=0.7.0 in /usr/local/lib/python3.6/dist-packages (from google-auth-oauthlib<0.5,>=0.4.1->tensorboard<3,>=2.3.0->tensorflow) (1.3.0)\n",
            "Requirement already satisfied, skipping upgrade: importlib-metadata; python_version < \"3.8\" in /usr/local/lib/python3.6/dist-packages (from markdown>=2.6.8->tensorboard<3,>=2.3.0->tensorflow) (1.7.0)\n",
            "Requirement already satisfied, skipping upgrade: certifi>=2017.4.17 in /usr/local/lib/python3.6/dist-packages (from requests<3,>=2.21.0->tensorboard<3,>=2.3.0->tensorflow) (2020.6.20)\n",
            "Requirement already satisfied, skipping upgrade: idna<3,>=2.5 in /usr/local/lib/python3.6/dist-packages (from requests<3,>=2.21.0->tensorboard<3,>=2.3.0->tensorflow) (2.10)\n",
            "Requirement already satisfied, skipping upgrade: urllib3!=1.25.0,!=1.25.1,<1.26,>=1.21.1 in /usr/local/lib/python3.6/dist-packages (from requests<3,>=2.21.0->tensorboard<3,>=2.3.0->tensorflow) (1.24.3)\n",
            "Requirement already satisfied, skipping upgrade: chardet<4,>=3.0.2 in /usr/local/lib/python3.6/dist-packages (from requests<3,>=2.21.0->tensorboard<3,>=2.3.0->tensorflow) (3.0.4)\n",
            "Requirement already satisfied, skipping upgrade: rsa<5,>=3.1.4; python_version >= \"3\" in /usr/local/lib/python3.6/dist-packages (from google-auth<2,>=1.6.3->tensorboard<3,>=2.3.0->tensorflow) (4.6)\n",
            "Requirement already satisfied, skipping upgrade: cachetools<5.0,>=2.0.0 in /usr/local/lib/python3.6/dist-packages (from google-auth<2,>=1.6.3->tensorboard<3,>=2.3.0->tensorflow) (4.1.1)\n",
            "Requirement already satisfied, skipping upgrade: pyasn1-modules>=0.2.1 in /usr/local/lib/python3.6/dist-packages (from google-auth<2,>=1.6.3->tensorboard<3,>=2.3.0->tensorflow) (0.2.8)\n",
            "Requirement already satisfied, skipping upgrade: oauthlib>=3.0.0 in /usr/local/lib/python3.6/dist-packages (from requests-oauthlib>=0.7.0->google-auth-oauthlib<0.5,>=0.4.1->tensorboard<3,>=2.3.0->tensorflow) (3.1.0)\n",
            "Requirement already satisfied, skipping upgrade: zipp>=0.5 in /usr/local/lib/python3.6/dist-packages (from importlib-metadata; python_version < \"3.8\"->markdown>=2.6.8->tensorboard<3,>=2.3.0->tensorflow) (3.1.0)\n",
            "Requirement already satisfied, skipping upgrade: pyasn1>=0.1.3 in /usr/local/lib/python3.6/dist-packages (from rsa<5,>=3.1.4; python_version >= \"3\"->google-auth<2,>=1.6.3->tensorboard<3,>=2.3.0->tensorflow) (0.4.8)\n"
          ],
          "name": "stdout"
        }
      ]
    },
    {
      "cell_type": "code",
      "metadata": {
        "id": "g2xw495IescF",
        "colab_type": "code",
        "colab": {
          "base_uri": "https://localhost:8080/",
          "height": 105
        },
        "outputId": "8c3de929-37f0-429e-b802-d4b0a11ea47c"
      },
      "source": [
        "%tensorflow_version 2.3\n",
        "import tensorflow as tf"
      ],
      "execution_count": null,
      "outputs": [
        {
          "output_type": "stream",
          "text": [
            "`%tensorflow_version` only switches the major version: 1.x or 2.x.\n",
            "You set: `2.3`. This will be interpreted as: `2.x`.\n",
            "\n",
            "\n",
            "TensorFlow 2.x selected.\n"
          ],
          "name": "stdout"
        }
      ]
    },
    {
      "cell_type": "code",
      "metadata": {
        "id": "XBFmmHzEPztk",
        "colab_type": "code",
        "colab": {}
      },
      "source": [
        "from keras.utils.np_utils import to_categorical\n",
        "from tensorflow.keras.preprocessing.image import ImageDataGenerator\n",
        "from sklearn.model_selection import train_test_split\n",
        "from tensorflow import keras\n",
        "from tensorflow.keras import layers\n",
        "from keras.layers.normalization import BatchNormalization"
      ],
      "execution_count": null,
      "outputs": []
    },
    {
      "cell_type": "markdown",
      "metadata": {
        "id": "wPr5xjT7Pztn",
        "colab_type": "text"
      },
      "source": [
        "#### CNN에 들어갈 수 있도록 np.array를 통해 데이터의 차원 변경 "
      ]
    },
    {
      "cell_type": "code",
      "metadata": {
        "id": "u_EC7B27Pzto",
        "colab_type": "code",
        "colab": {}
      },
      "source": [
        "x_train=np.array(train.iloc[:,3:]).reshape(-1,28,28,1).astype(np.float)\n",
        "y_train=to_categorical(train['digit'].values)"
      ],
      "execution_count": null,
      "outputs": []
    },
    {
      "cell_type": "code",
      "metadata": {
        "id": "JRYgwUPMPzts",
        "colab_type": "code",
        "colab": {
          "base_uri": "https://localhost:8080/",
          "height": 34
        },
        "outputId": "e08608df-1b67-47fa-870e-1165b589b6c8"
      },
      "source": [
        "x_train.shape"
      ],
      "execution_count": null,
      "outputs": [
        {
          "output_type": "execute_result",
          "data": {
            "text/plain": [
              "(2048, 28, 28, 1)"
            ]
          },
          "metadata": {
            "tags": []
          },
          "execution_count": 14
        }
      ]
    },
    {
      "cell_type": "code",
      "metadata": {
        "id": "4E56lNV1Pztv",
        "colab_type": "code",
        "colab": {
          "base_uri": "https://localhost:8080/",
          "height": 34
        },
        "outputId": "ea189c2b-aaec-447e-ea27-4b2cfffe8bdd"
      },
      "source": [
        "y_train.shape"
      ],
      "execution_count": null,
      "outputs": [
        {
          "output_type": "execute_result",
          "data": {
            "text/plain": [
              "(2048, 10)"
            ]
          },
          "metadata": {
            "tags": []
          },
          "execution_count": 15
        }
      ]
    },
    {
      "cell_type": "markdown",
      "metadata": {
        "id": "SEVn_Iy3Pzt0",
        "colab_type": "text"
      },
      "source": [
        "#### train data 와 validation data 를 나누어 모델의 학습에 사용"
      ]
    },
    {
      "cell_type": "code",
      "metadata": {
        "id": "PcxsQHT4Pzt1",
        "colab_type": "code",
        "colab": {}
      },
      "source": [
        "#train , val 나누기 (0.2사용)\n",
        "x_train, x_val, y_train, y_val = train_test_split(x_train, y_train, test_size = 0.2)"
      ],
      "execution_count": null,
      "outputs": []
    },
    {
      "cell_type": "code",
      "metadata": {
        "id": "3aqoFYTJPzt5",
        "colab_type": "code",
        "colab": {
          "base_uri": "https://localhost:8080/",
          "height": 34
        },
        "outputId": "19f6fcb1-93c3-49bb-9c18-7b0031f3ab36"
      },
      "source": [
        "x_train.shape[0]"
      ],
      "execution_count": null,
      "outputs": [
        {
          "output_type": "execute_result",
          "data": {
            "text/plain": [
              "1638"
            ]
          },
          "metadata": {
            "tags": []
          },
          "execution_count": 17
        }
      ]
    },
    {
      "cell_type": "code",
      "metadata": {
        "id": "IJlSrheoPzt9",
        "colab_type": "code",
        "colab": {
          "base_uri": "https://localhost:8080/",
          "height": 34
        },
        "outputId": "4b4aa900-8f25-44c9-8d39-88f504fc768b"
      },
      "source": [
        "x_val.shape[0]"
      ],
      "execution_count": null,
      "outputs": [
        {
          "output_type": "execute_result",
          "data": {
            "text/plain": [
              "410"
            ]
          },
          "metadata": {
            "tags": []
          },
          "execution_count": 18
        }
      ]
    },
    {
      "cell_type": "markdown",
      "metadata": {
        "id": "h-kL87YwPzuC",
        "colab_type": "text"
      },
      "source": [
        "#### 현재 데이터의 수가 적으므로 imagegenerator를 통해 데이터를 증식"
      ]
    },
    {
      "cell_type": "code",
      "metadata": {
        "id": "tJUjEZUcPzuC",
        "colab_type": "code",
        "colab": {}
      },
      "source": [
        "#이미지 데이터 증식 여러각도로 바꾸어 본다. \n",
        "train_datagen = ImageDataGenerator(\n",
        "    rescale=1./255,\n",
        "    rotation_range=10,\n",
        "    width_shift_range=0.1,\n",
        "    height_shift_range=0.1,\n",
        "    shear_range=0.2,\n",
        "    zoom_range=0.1,\n",
        "    fill_mode='nearest'\n",
        "    )\n",
        "train_datagen.fit(x_train)\n",
        "test_datagen=ImageDataGenerator(rescale=1./255)"
      ],
      "execution_count": null,
      "outputs": []
    },
    {
      "cell_type": "code",
      "metadata": {
        "id": "ixgrACwGPzuG",
        "colab_type": "code",
        "colab": {
          "base_uri": "https://localhost:8080/",
          "height": 34
        },
        "outputId": "e3ff41d5-756e-458c-9c2b-09a47c76a064"
      },
      "source": [
        "x_train.shape"
      ],
      "execution_count": null,
      "outputs": [
        {
          "output_type": "execute_result",
          "data": {
            "text/plain": [
              "(1638, 28, 28, 1)"
            ]
          },
          "metadata": {
            "tags": []
          },
          "execution_count": 20
        }
      ]
    },
    {
      "cell_type": "code",
      "metadata": {
        "id": "Krwh6kuwPzuK",
        "colab_type": "code",
        "colab": {}
      },
      "source": [
        "from keras.wrappers.scikit_learn import KerasClassifier"
      ],
      "execution_count": null,
      "outputs": []
    },
    {
      "cell_type": "markdown",
      "metadata": {
        "id": "NRBrWKApPzuO",
        "colab_type": "text"
      },
      "source": [
        "#### 모델의 구성 (keras를 이용)\n",
        "1) Conv2D 계층과 그 뒤에 Pooling 계층을 연결\n",
        " - 초기에는 뒤의 Dense를 2개 두었지만 AlexNet을 모방하여 Dense를 늘리니 정확도가 상승\n",
        " \n",
        "2) 활성화 함수, 옵티마이저의 변경: Leaky Relu 와 nadam,adagrad,msd 등을 사용해 보았지만 adam이 정확도가 좋아보임\n",
        "\n",
        "3) Drop out 계층의 추가를 통해 정확도 상승 실험(Drop out 비율조정시 0.5가 좋아보임)\n",
        "\n",
        "4) padding을 적용시켜 데이터의 손실을 막아봄"
      ]
    },
    {
      "cell_type": "code",
      "metadata": {
        "id": "N6AhrNQnPzuP",
        "colab_type": "code",
        "colab": {
          "base_uri": "https://localhost:8080/",
          "height": 721
        },
        "outputId": "870ed5b6-f877-4687-8ece-b8b2d1f7e2e3"
      },
      "source": [
        "model = keras.Sequential()\n",
        "model.add(layers.Conv2D(64, kernel_size=3, activation='relu',padding='same',\n",
        "                        input_shape=x_train.shape[1:]))\n",
        "model.add(layers.Conv2D(64, kernel_size=3,padding='same', activation='relu'))\n",
        "model.add(layers.MaxPooling2D((2,2)))\n",
        "model.add(layers.Dropout(0.4))\n",
        "\n",
        "model.add(layers.Conv2D(64, kernel_size=3,padding='same', activation='relu'))\n",
        "model.add(layers.Conv2D(64, kernel_size=3,padding='same', activation='relu'))\n",
        "model.add(layers.MaxPooling2D((2,2)))\n",
        "model.add(layers.Dropout(0.4))\n",
        "\n",
        "model.add(layers.Conv2D(128, kernel_size=3,padding='same', activation='relu'))\n",
        "model.add(layers.Conv2D(128, kernel_size=3,padding='same', activation='relu'))\n",
        "model.add(layers.MaxPooling2D((2,2)))\n",
        "model.add(layers.Dropout(0.4))\n",
        "\n",
        "model.add(layers.Flatten())\n",
        "model.add(layers.Dense(128, activation='relu'))\n",
        "model.add(layers.Dense(64, activation='relu'))\n",
        "model.add(layers.Dense(y_train.shape[1], activation='softmax'))\n",
        "model.summary()"
      ],
      "execution_count": null,
      "outputs": [
        {
          "output_type": "stream",
          "text": [
            "Model: \"sequential_10\"\n",
            "_________________________________________________________________\n",
            "Layer (type)                 Output Shape              Param #   \n",
            "=================================================================\n",
            "conv2d_51 (Conv2D)           (None, 28, 28, 64)        640       \n",
            "_________________________________________________________________\n",
            "conv2d_52 (Conv2D)           (None, 28, 28, 64)        36928     \n",
            "_________________________________________________________________\n",
            "max_pooling2d_30 (MaxPooling (None, 14, 14, 64)        0         \n",
            "_________________________________________________________________\n",
            "dropout_23 (Dropout)         (None, 14, 14, 64)        0         \n",
            "_________________________________________________________________\n",
            "conv2d_53 (Conv2D)           (None, 14, 14, 64)        36928     \n",
            "_________________________________________________________________\n",
            "conv2d_54 (Conv2D)           (None, 14, 14, 64)        36928     \n",
            "_________________________________________________________________\n",
            "max_pooling2d_31 (MaxPooling (None, 7, 7, 64)          0         \n",
            "_________________________________________________________________\n",
            "dropout_24 (Dropout)         (None, 7, 7, 64)          0         \n",
            "_________________________________________________________________\n",
            "conv2d_55 (Conv2D)           (None, 7, 7, 128)         73856     \n",
            "_________________________________________________________________\n",
            "conv2d_56 (Conv2D)           (None, 7, 7, 128)         147584    \n",
            "_________________________________________________________________\n",
            "max_pooling2d_32 (MaxPooling (None, 3, 3, 128)         0         \n",
            "_________________________________________________________________\n",
            "dropout_25 (Dropout)         (None, 3, 3, 128)         0         \n",
            "_________________________________________________________________\n",
            "flatten_10 (Flatten)         (None, 1152)              0         \n",
            "_________________________________________________________________\n",
            "dense_22 (Dense)             (None, 128)               147584    \n",
            "_________________________________________________________________\n",
            "dense_23 (Dense)             (None, 64)                8256      \n",
            "_________________________________________________________________\n",
            "dense_24 (Dense)             (None, 10)                650       \n",
            "=================================================================\n",
            "Total params: 489,354\n",
            "Trainable params: 489,354\n",
            "Non-trainable params: 0\n",
            "_________________________________________________________________\n"
          ],
          "name": "stdout"
        }
      ]
    },
    {
      "cell_type": "code",
      "metadata": {
        "id": "DdQy-0wyc0t9",
        "colab_type": "code",
        "colab": {}
      },
      "source": [
        "optimizer = keras.optimizers.Adam(lr = 0.001, beta_1 = 0.9, beta_2 = 0.999)"
      ],
      "execution_count": null,
      "outputs": []
    },
    {
      "cell_type": "code",
      "metadata": {
        "id": "utaBZVbzPzuT",
        "colab_type": "code",
        "colab": {}
      },
      "source": [
        "model.compile(optimizer=\"adam\", loss=\"categorical_crossentropy\", metrics=[\"accuracy\"])"
      ],
      "execution_count": null,
      "outputs": []
    },
    {
      "cell_type": "code",
      "metadata": {
        "id": "kRUHzddAPzuX",
        "colab_type": "code",
        "colab": {}
      },
      "source": [
        "batch=32\n",
        "epoch=300"
      ],
      "execution_count": null,
      "outputs": []
    },
    {
      "cell_type": "markdown",
      "metadata": {
        "id": "uA-kopFwPzud",
        "colab_type": "text"
      },
      "source": [
        "#### 모델의 학습과 Overfitting 방지 \n",
        "- Early stopping과 callback을 통해, 지속적으로 Val_accuracy를 모니터링 하여\\\n",
        "  학습이 진행되어가며 Val_accuracy가 개선되지 않으면(증가되거나 지속) 학습을 종료하고\\\n",
        "  가장 좋은 Val_accuray를 보여주었던 모델의 가중치를 best_model.h5로 저장"
      ]
    },
    {
      "cell_type": "code",
      "metadata": {
        "id": "qJRcTkpUnivb",
        "colab_type": "code",
        "colab": {
          "base_uri": "https://localhost:8080/",
          "height": 210
        },
        "outputId": "a1872ee8-5b7e-44dd-9524-b374a2bbd60d"
      },
      "source": [
        "train.digit.value_counts() / train.digit.value_counts().sum()"
      ],
      "execution_count": null,
      "outputs": [
        {
          "output_type": "execute_result",
          "data": {
            "text/plain": [
              "2    0.113770\n",
              "5    0.109863\n",
              "6    0.103516\n",
              "4    0.101074\n",
              "3    0.100098\n",
              "1    0.098633\n",
              "9    0.096191\n",
              "7    0.094727\n",
              "0    0.093262\n",
              "8    0.088867\n",
              "Name: digit, dtype: float64"
            ]
          },
          "metadata": {
            "tags": []
          },
          "execution_count": 57
        }
      ]
    },
    {
      "cell_type": "code",
      "metadata": {
        "id": "7z4zfkcJnAaY",
        "colab_type": "code",
        "colab": {}
      },
      "source": [
        "class_weight = {\n",
        "    0: 0.093262,\n",
        "    1: 0.098633,\n",
        "    2: 0.113770,\n",
        "    3: 0.100098,\n",
        "    4: 0.101074,\n",
        "    5: 0.109863,\n",
        "    6: 0.103516,\n",
        "    7: 0.094727,\n",
        "    8: 0.088867,\n",
        "    9: 0.096191,\n",
        "}"
      ],
      "execution_count": null,
      "outputs": []
    },
    {
      "cell_type": "code",
      "metadata": {
        "scrolled": true,
        "id": "bErCxG-hPzue",
        "colab_type": "code",
        "colab": {
          "base_uri": "https://localhost:8080/",
          "height": 1000
        },
        "outputId": "9806a8c0-f602-4ff3-b257-94f5b30629df"
      },
      "source": [
        "early_stop = [keras.callbacks.EarlyStopping(monitor='val_accuracy', patience=50),\n",
        "            keras.callbacks.ModelCheckpoint(filepath='C:/workspace/DACON/EMNIST/model/best_model1.h5',monitor='val_accuracy',save_best_only=True)]\n",
        "\n",
        "history = model.fit_generator(\n",
        "    train_datagen.flow(x_train, y_train, batch_size=32),\n",
        "    steps_per_epoch=x_train.shape[0]//batch, # 전체 데이터 수 / 배치 사이즈\n",
        "    epochs=epoch,\n",
        "    validation_data=test_datagen.flow(x_val, y_val),\n",
        "   # class_weight = class_weight,\n",
        "    verbose=2,\n",
        "    callbacks=early_stop\n",
        ")"
      ],
      "execution_count": null,
      "outputs": [
        {
          "output_type": "stream",
          "text": [
            "Epoch 1/300\n",
            "51/51 - 1s - loss: 0.2141 - accuracy: 0.9309 - val_loss: 0.8537 - val_accuracy: 0.7829\n",
            "Epoch 2/300\n",
            "51/51 - 1s - loss: 0.1872 - accuracy: 0.9346 - val_loss: 0.6798 - val_accuracy: 0.8195\n",
            "Epoch 3/300\n",
            "51/51 - 1s - loss: 0.1962 - accuracy: 0.9296 - val_loss: 0.6666 - val_accuracy: 0.8220\n",
            "Epoch 4/300\n",
            "51/51 - 1s - loss: 0.2417 - accuracy: 0.9197 - val_loss: 0.5993 - val_accuracy: 0.8244\n",
            "Epoch 5/300\n",
            "51/51 - 1s - loss: 0.2056 - accuracy: 0.9278 - val_loss: 0.5940 - val_accuracy: 0.8439\n",
            "Epoch 6/300\n",
            "51/51 - 1s - loss: 0.1941 - accuracy: 0.9384 - val_loss: 0.7211 - val_accuracy: 0.8098\n",
            "Epoch 7/300\n",
            "51/51 - 1s - loss: 0.1919 - accuracy: 0.9340 - val_loss: 0.6445 - val_accuracy: 0.8512\n",
            "Epoch 8/300\n",
            "51/51 - 1s - loss: 0.2053 - accuracy: 0.9303 - val_loss: 0.7294 - val_accuracy: 0.8146\n",
            "Epoch 9/300\n",
            "51/51 - 1s - loss: 0.2042 - accuracy: 0.9309 - val_loss: 0.7036 - val_accuracy: 0.8146\n",
            "Epoch 10/300\n",
            "51/51 - 1s - loss: 0.2182 - accuracy: 0.9253 - val_loss: 0.5946 - val_accuracy: 0.8293\n",
            "Epoch 11/300\n",
            "51/51 - 1s - loss: 0.2016 - accuracy: 0.9253 - val_loss: 0.7015 - val_accuracy: 0.7976\n",
            "Epoch 12/300\n",
            "51/51 - 1s - loss: 0.2006 - accuracy: 0.9328 - val_loss: 0.6360 - val_accuracy: 0.8195\n",
            "Epoch 13/300\n",
            "51/51 - 1s - loss: 0.1660 - accuracy: 0.9427 - val_loss: 0.6764 - val_accuracy: 0.8341\n",
            "Epoch 14/300\n",
            "51/51 - 1s - loss: 0.1771 - accuracy: 0.9352 - val_loss: 0.7120 - val_accuracy: 0.8268\n",
            "Epoch 15/300\n",
            "51/51 - 1s - loss: 0.1968 - accuracy: 0.9334 - val_loss: 0.6834 - val_accuracy: 0.8366\n",
            "Epoch 16/300\n",
            "51/51 - 1s - loss: 0.1731 - accuracy: 0.9415 - val_loss: 0.6848 - val_accuracy: 0.8268\n",
            "Epoch 17/300\n",
            "51/51 - 1s - loss: 0.2014 - accuracy: 0.9271 - val_loss: 0.6658 - val_accuracy: 0.8366\n",
            "Epoch 18/300\n",
            "51/51 - 1s - loss: 0.1540 - accuracy: 0.9446 - val_loss: 0.6179 - val_accuracy: 0.8439\n",
            "Epoch 19/300\n",
            "51/51 - 1s - loss: 0.2250 - accuracy: 0.9240 - val_loss: 0.5760 - val_accuracy: 0.8488\n",
            "Epoch 20/300\n",
            "51/51 - 1s - loss: 0.1898 - accuracy: 0.9334 - val_loss: 0.6526 - val_accuracy: 0.8268\n",
            "Epoch 21/300\n",
            "51/51 - 1s - loss: 0.1796 - accuracy: 0.9365 - val_loss: 0.6239 - val_accuracy: 0.8268\n",
            "Epoch 22/300\n",
            "51/51 - 1s - loss: 0.1789 - accuracy: 0.9315 - val_loss: 0.6605 - val_accuracy: 0.8366\n",
            "Epoch 23/300\n",
            "51/51 - 1s - loss: 0.1850 - accuracy: 0.9446 - val_loss: 0.7105 - val_accuracy: 0.8122\n",
            "Epoch 24/300\n",
            "51/51 - 1s - loss: 0.1448 - accuracy: 0.9545 - val_loss: 0.6311 - val_accuracy: 0.8585\n",
            "Epoch 25/300\n",
            "51/51 - 1s - loss: 0.1875 - accuracy: 0.9346 - val_loss: 0.6932 - val_accuracy: 0.8390\n",
            "Epoch 26/300\n",
            "51/51 - 1s - loss: 0.1702 - accuracy: 0.9446 - val_loss: 0.6789 - val_accuracy: 0.8390\n",
            "Epoch 27/300\n",
            "51/51 - 1s - loss: 0.1869 - accuracy: 0.9365 - val_loss: 0.7596 - val_accuracy: 0.8317\n",
            "Epoch 28/300\n",
            "51/51 - 1s - loss: 0.1938 - accuracy: 0.9352 - val_loss: 0.6448 - val_accuracy: 0.8317\n",
            "Epoch 29/300\n",
            "51/51 - 1s - loss: 0.1744 - accuracy: 0.9396 - val_loss: 0.5858 - val_accuracy: 0.8439\n",
            "Epoch 30/300\n",
            "51/51 - 1s - loss: 0.1906 - accuracy: 0.9328 - val_loss: 0.7401 - val_accuracy: 0.8244\n",
            "Epoch 31/300\n",
            "51/51 - 1s - loss: 0.2198 - accuracy: 0.9278 - val_loss: 0.8912 - val_accuracy: 0.7829\n",
            "Epoch 32/300\n",
            "51/51 - 1s - loss: 0.1740 - accuracy: 0.9381 - val_loss: 0.7112 - val_accuracy: 0.8293\n",
            "Epoch 33/300\n",
            "51/51 - 1s - loss: 0.1944 - accuracy: 0.9303 - val_loss: 0.7329 - val_accuracy: 0.8244\n",
            "Epoch 34/300\n",
            "51/51 - 1s - loss: 0.1589 - accuracy: 0.9433 - val_loss: 0.6663 - val_accuracy: 0.8317\n",
            "Epoch 35/300\n",
            "51/51 - 1s - loss: 0.1594 - accuracy: 0.9433 - val_loss: 0.8315 - val_accuracy: 0.8000\n",
            "Epoch 36/300\n",
            "51/51 - 1s - loss: 0.1807 - accuracy: 0.9340 - val_loss: 0.7242 - val_accuracy: 0.8195\n",
            "Epoch 37/300\n",
            "51/51 - 1s - loss: 0.2068 - accuracy: 0.9284 - val_loss: 0.8077 - val_accuracy: 0.8073\n",
            "Epoch 38/300\n",
            "51/51 - 1s - loss: 0.1669 - accuracy: 0.9421 - val_loss: 0.7036 - val_accuracy: 0.8220\n",
            "Epoch 39/300\n",
            "51/51 - 1s - loss: 0.1974 - accuracy: 0.9303 - val_loss: 0.7462 - val_accuracy: 0.8098\n",
            "Epoch 40/300\n",
            "51/51 - 1s - loss: 0.1937 - accuracy: 0.9253 - val_loss: 0.6219 - val_accuracy: 0.8366\n",
            "Epoch 41/300\n",
            "51/51 - 1s - loss: 0.1964 - accuracy: 0.9352 - val_loss: 0.6353 - val_accuracy: 0.8537\n",
            "Epoch 42/300\n",
            "51/51 - 1s - loss: 0.1685 - accuracy: 0.9402 - val_loss: 0.6896 - val_accuracy: 0.8512\n",
            "Epoch 43/300\n",
            "51/51 - 1s - loss: 0.1737 - accuracy: 0.9384 - val_loss: 0.7238 - val_accuracy: 0.8195\n",
            "Epoch 44/300\n",
            "51/51 - 1s - loss: 0.1698 - accuracy: 0.9408 - val_loss: 0.7802 - val_accuracy: 0.8098\n",
            "Epoch 45/300\n",
            "51/51 - 1s - loss: 0.1789 - accuracy: 0.9446 - val_loss: 0.6228 - val_accuracy: 0.8390\n",
            "Epoch 46/300\n",
            "51/51 - 1s - loss: 0.1772 - accuracy: 0.9359 - val_loss: 0.6927 - val_accuracy: 0.8585\n",
            "Epoch 47/300\n",
            "51/51 - 1s - loss: 0.1699 - accuracy: 0.9384 - val_loss: 0.7092 - val_accuracy: 0.8317\n",
            "Epoch 48/300\n",
            "51/51 - 1s - loss: 0.1893 - accuracy: 0.9303 - val_loss: 0.6248 - val_accuracy: 0.8537\n",
            "Epoch 49/300\n",
            "51/51 - 1s - loss: 0.1733 - accuracy: 0.9359 - val_loss: 0.7658 - val_accuracy: 0.8073\n",
            "Epoch 50/300\n",
            "51/51 - 1s - loss: 0.1720 - accuracy: 0.9390 - val_loss: 0.6619 - val_accuracy: 0.8439\n",
            "Epoch 51/300\n",
            "51/51 - 1s - loss: 0.1525 - accuracy: 0.9508 - val_loss: 0.7339 - val_accuracy: 0.8171\n",
            "Epoch 52/300\n",
            "51/51 - 1s - loss: 0.1301 - accuracy: 0.9589 - val_loss: 0.7021 - val_accuracy: 0.8366\n",
            "Epoch 53/300\n",
            "51/51 - 1s - loss: 0.1596 - accuracy: 0.9489 - val_loss: 0.7062 - val_accuracy: 0.8463\n",
            "Epoch 54/300\n",
            "51/51 - 1s - loss: 0.1816 - accuracy: 0.9415 - val_loss: 0.6360 - val_accuracy: 0.8537\n",
            "Epoch 55/300\n",
            "51/51 - 1s - loss: 0.1658 - accuracy: 0.9402 - val_loss: 0.8531 - val_accuracy: 0.8146\n",
            "Epoch 56/300\n",
            "51/51 - 1s - loss: 0.1697 - accuracy: 0.9350 - val_loss: 0.6803 - val_accuracy: 0.8390\n",
            "Epoch 57/300\n",
            "51/51 - 1s - loss: 0.1642 - accuracy: 0.9390 - val_loss: 0.7277 - val_accuracy: 0.8293\n",
            "Epoch 58/300\n",
            "51/51 - 1s - loss: 0.1763 - accuracy: 0.9440 - val_loss: 0.8245 - val_accuracy: 0.8341\n",
            "Epoch 59/300\n",
            "51/51 - 1s - loss: 0.1640 - accuracy: 0.9421 - val_loss: 0.6891 - val_accuracy: 0.8415\n",
            "Epoch 60/300\n",
            "51/51 - 1s - loss: 0.1454 - accuracy: 0.9502 - val_loss: 0.8371 - val_accuracy: 0.8146\n",
            "Epoch 61/300\n",
            "51/51 - 1s - loss: 0.1656 - accuracy: 0.9408 - val_loss: 0.7891 - val_accuracy: 0.8268\n",
            "Epoch 62/300\n",
            "51/51 - 1s - loss: 0.1803 - accuracy: 0.9433 - val_loss: 0.7018 - val_accuracy: 0.8171\n",
            "Epoch 63/300\n",
            "51/51 - 1s - loss: 0.1689 - accuracy: 0.9465 - val_loss: 0.6897 - val_accuracy: 0.8390\n",
            "Epoch 64/300\n",
            "51/51 - 1s - loss: 0.1501 - accuracy: 0.9477 - val_loss: 0.7457 - val_accuracy: 0.8195\n",
            "Epoch 65/300\n",
            "51/51 - 1s - loss: 0.1942 - accuracy: 0.9315 - val_loss: 0.7696 - val_accuracy: 0.8000\n",
            "Epoch 66/300\n",
            "51/51 - 1s - loss: 0.1745 - accuracy: 0.9402 - val_loss: 0.7348 - val_accuracy: 0.8171\n",
            "Epoch 67/300\n",
            "51/51 - 1s - loss: 0.1571 - accuracy: 0.9502 - val_loss: 0.6507 - val_accuracy: 0.8244\n",
            "Epoch 68/300\n",
            "51/51 - 1s - loss: 0.1432 - accuracy: 0.9508 - val_loss: 0.8243 - val_accuracy: 0.8195\n",
            "Epoch 69/300\n",
            "51/51 - 1s - loss: 0.1653 - accuracy: 0.9377 - val_loss: 0.7036 - val_accuracy: 0.8366\n",
            "Epoch 70/300\n",
            "51/51 - 1s - loss: 0.1280 - accuracy: 0.9614 - val_loss: 0.8283 - val_accuracy: 0.8122\n",
            "Epoch 71/300\n",
            "51/51 - 1s - loss: 0.1614 - accuracy: 0.9415 - val_loss: 0.7210 - val_accuracy: 0.8415\n",
            "Epoch 72/300\n",
            "51/51 - 1s - loss: 0.1738 - accuracy: 0.9408 - val_loss: 0.6518 - val_accuracy: 0.8610\n",
            "Epoch 73/300\n",
            "51/51 - 1s - loss: 0.1377 - accuracy: 0.9533 - val_loss: 0.7673 - val_accuracy: 0.8244\n",
            "Epoch 74/300\n",
            "51/51 - 1s - loss: 0.1612 - accuracy: 0.9433 - val_loss: 0.7576 - val_accuracy: 0.8268\n",
            "Epoch 75/300\n",
            "51/51 - 1s - loss: 0.1583 - accuracy: 0.9471 - val_loss: 0.6245 - val_accuracy: 0.8561\n",
            "Epoch 76/300\n",
            "51/51 - 1s - loss: 0.1822 - accuracy: 0.9371 - val_loss: 0.6469 - val_accuracy: 0.8317\n",
            "Epoch 77/300\n",
            "51/51 - 1s - loss: 0.1823 - accuracy: 0.9433 - val_loss: 0.7081 - val_accuracy: 0.8171\n",
            "Epoch 78/300\n",
            "51/51 - 1s - loss: 0.1765 - accuracy: 0.9471 - val_loss: 0.8505 - val_accuracy: 0.7780\n",
            "Epoch 79/300\n",
            "51/51 - 1s - loss: 0.1731 - accuracy: 0.9502 - val_loss: 0.6936 - val_accuracy: 0.8317\n",
            "Epoch 80/300\n",
            "51/51 - 1s - loss: 0.1368 - accuracy: 0.9577 - val_loss: 0.7709 - val_accuracy: 0.8171\n",
            "Epoch 81/300\n",
            "51/51 - 1s - loss: 0.1582 - accuracy: 0.9465 - val_loss: 0.7584 - val_accuracy: 0.8244\n",
            "Epoch 82/300\n",
            "51/51 - 1s - loss: 0.1319 - accuracy: 0.9564 - val_loss: 0.7860 - val_accuracy: 0.8171\n",
            "Epoch 83/300\n",
            "51/51 - 1s - loss: 0.1378 - accuracy: 0.9521 - val_loss: 0.6572 - val_accuracy: 0.8488\n",
            "Epoch 84/300\n",
            "51/51 - 1s - loss: 0.1974 - accuracy: 0.9352 - val_loss: 0.7302 - val_accuracy: 0.8195\n",
            "Epoch 85/300\n",
            "51/51 - 1s - loss: 0.1628 - accuracy: 0.9408 - val_loss: 0.7673 - val_accuracy: 0.8146\n",
            "Epoch 86/300\n",
            "51/51 - 1s - loss: 0.1444 - accuracy: 0.9502 - val_loss: 0.7059 - val_accuracy: 0.8512\n",
            "Epoch 87/300\n",
            "51/51 - 1s - loss: 0.1361 - accuracy: 0.9539 - val_loss: 0.6804 - val_accuracy: 0.8293\n",
            "Epoch 88/300\n",
            "51/51 - 1s - loss: 0.1720 - accuracy: 0.9402 - val_loss: 0.7666 - val_accuracy: 0.8073\n",
            "Epoch 89/300\n",
            "51/51 - 1s - loss: 0.1817 - accuracy: 0.9421 - val_loss: 0.7737 - val_accuracy: 0.8195\n",
            "Epoch 90/300\n",
            "51/51 - 1s - loss: 0.1323 - accuracy: 0.9601 - val_loss: 0.6513 - val_accuracy: 0.8317\n",
            "Epoch 91/300\n",
            "51/51 - 1s - loss: 0.1361 - accuracy: 0.9552 - val_loss: 0.6277 - val_accuracy: 0.8439\n",
            "Epoch 92/300\n",
            "51/51 - 1s - loss: 0.1125 - accuracy: 0.9583 - val_loss: 0.8669 - val_accuracy: 0.7902\n",
            "Epoch 93/300\n",
            "51/51 - 1s - loss: 0.1427 - accuracy: 0.9533 - val_loss: 0.8346 - val_accuracy: 0.7902\n",
            "Epoch 94/300\n",
            "51/51 - 1s - loss: 0.1478 - accuracy: 0.9496 - val_loss: 0.6986 - val_accuracy: 0.8390\n",
            "Epoch 95/300\n",
            "51/51 - 1s - loss: 0.1587 - accuracy: 0.9452 - val_loss: 0.7200 - val_accuracy: 0.8293\n",
            "Epoch 96/300\n",
            "51/51 - 1s - loss: 0.1712 - accuracy: 0.9427 - val_loss: 0.6931 - val_accuracy: 0.8317\n",
            "Epoch 97/300\n",
            "51/51 - 1s - loss: 0.1492 - accuracy: 0.9477 - val_loss: 0.9049 - val_accuracy: 0.7976\n",
            "Epoch 98/300\n",
            "51/51 - 1s - loss: 0.1524 - accuracy: 0.9508 - val_loss: 0.5856 - val_accuracy: 0.8561\n",
            "Epoch 99/300\n",
            "51/51 - 1s - loss: 0.1402 - accuracy: 0.9508 - val_loss: 1.0065 - val_accuracy: 0.7707\n",
            "Epoch 100/300\n",
            "51/51 - 1s - loss: 0.1573 - accuracy: 0.9502 - val_loss: 0.6964 - val_accuracy: 0.8244\n",
            "Epoch 101/300\n",
            "51/51 - 1s - loss: 0.1205 - accuracy: 0.9559 - val_loss: 0.7438 - val_accuracy: 0.8341\n",
            "Epoch 102/300\n",
            "51/51 - 1s - loss: 0.1089 - accuracy: 0.9664 - val_loss: 0.7051 - val_accuracy: 0.8415\n",
            "Epoch 103/300\n",
            "51/51 - 1s - loss: 0.1361 - accuracy: 0.9552 - val_loss: 0.7726 - val_accuracy: 0.8317\n",
            "Epoch 104/300\n",
            "51/51 - 1s - loss: 0.1180 - accuracy: 0.9589 - val_loss: 0.7415 - val_accuracy: 0.8415\n",
            "Epoch 105/300\n",
            "51/51 - 1s - loss: 0.1614 - accuracy: 0.9427 - val_loss: 0.7764 - val_accuracy: 0.8244\n",
            "Epoch 106/300\n",
            "51/51 - 1s - loss: 0.1615 - accuracy: 0.9471 - val_loss: 0.6875 - val_accuracy: 0.8488\n",
            "Epoch 107/300\n",
            "51/51 - 1s - loss: 0.1416 - accuracy: 0.9502 - val_loss: 0.7239 - val_accuracy: 0.8463\n",
            "Epoch 108/300\n",
            "51/51 - 1s - loss: 0.1352 - accuracy: 0.9570 - val_loss: 0.7180 - val_accuracy: 0.8317\n",
            "Epoch 109/300\n",
            "51/51 - 1s - loss: 0.1432 - accuracy: 0.9533 - val_loss: 0.7741 - val_accuracy: 0.8146\n",
            "Epoch 110/300\n",
            "51/51 - 1s - loss: 0.1350 - accuracy: 0.9471 - val_loss: 0.9713 - val_accuracy: 0.7951\n",
            "Epoch 111/300\n",
            "51/51 - 1s - loss: 0.1450 - accuracy: 0.9521 - val_loss: 0.9016 - val_accuracy: 0.7732\n",
            "Epoch 112/300\n",
            "51/51 - 1s - loss: 0.1719 - accuracy: 0.9452 - val_loss: 0.8092 - val_accuracy: 0.8122\n",
            "Epoch 113/300\n",
            "51/51 - 1s - loss: 0.1725 - accuracy: 0.9458 - val_loss: 0.7413 - val_accuracy: 0.8171\n",
            "Epoch 114/300\n",
            "51/51 - 1s - loss: 0.1387 - accuracy: 0.9533 - val_loss: 0.7666 - val_accuracy: 0.8195\n",
            "Epoch 115/300\n",
            "51/51 - 1s - loss: 0.1449 - accuracy: 0.9521 - val_loss: 0.7537 - val_accuracy: 0.8220\n",
            "Epoch 116/300\n",
            "51/51 - 1s - loss: 0.1146 - accuracy: 0.9583 - val_loss: 0.8087 - val_accuracy: 0.8195\n",
            "Epoch 117/300\n",
            "51/51 - 1s - loss: 0.1271 - accuracy: 0.9570 - val_loss: 0.8265 - val_accuracy: 0.8268\n",
            "Epoch 118/300\n",
            "51/51 - 1s - loss: 0.1550 - accuracy: 0.9570 - val_loss: 0.7663 - val_accuracy: 0.8317\n",
            "Epoch 119/300\n",
            "51/51 - 1s - loss: 0.1763 - accuracy: 0.9452 - val_loss: 0.6950 - val_accuracy: 0.8317\n",
            "Epoch 120/300\n",
            "51/51 - 1s - loss: 0.1479 - accuracy: 0.9514 - val_loss: 0.7775 - val_accuracy: 0.8122\n",
            "Epoch 121/300\n",
            "51/51 - 1s - loss: 0.1392 - accuracy: 0.9514 - val_loss: 0.7722 - val_accuracy: 0.8341\n",
            "Epoch 122/300\n",
            "51/51 - 1s - loss: 0.1473 - accuracy: 0.9514 - val_loss: 0.8210 - val_accuracy: 0.8220\n"
          ],
          "name": "stdout"
        }
      ]
    },
    {
      "cell_type": "markdown",
      "metadata": {
        "id": "TLIg272APzui",
        "colab_type": "text"
      },
      "source": [
        "#### 모델의 학습과정과 val_accuray의 변화"
      ]
    },
    {
      "cell_type": "code",
      "metadata": {
        "scrolled": false,
        "id": "2ZpIPm9jPzui",
        "colab_type": "code",
        "colab": {
          "base_uri": "https://localhost:8080/",
          "height": 545
        },
        "outputId": "2f4c8d2f-2b25-410c-d0d7-f4410673e9ba"
      },
      "source": [
        "acc = history.history['accuracy']\n",
        "val_acc = history.history['val_accuracy']\n",
        "loss = history.history['loss']\n",
        "val_loss = history.history['val_loss']\n",
        "\n",
        "epochs = range(1, len(acc) + 1)\n",
        "\n",
        "plt.plot(epochs, acc, 'b', label='Training acc')\n",
        "plt.plot(epochs, val_acc, 'bo', label='Validation acc')\n",
        "plt.title('Training and Validation Accuracy')\n",
        "plt.legend()\n",
        "\n",
        "plt.figure()\n",
        "\n",
        "plt.plot(epochs, loss, 'b', label='Training loss')\n",
        "plt.plot(epochs, val_loss, 'bo', label='Validation loss')\n",
        "plt.title('Training and Validation Loss')\n",
        "plt.legend()\n",
        "\n",
        "plt.show()"
      ],
      "execution_count": null,
      "outputs": [
        {
          "output_type": "display_data",
          "data": {
            "image/png": "[encoded data removed]",
            "text/plain": [
              "<Figure size 432x288 with 1 Axes>"
            ]
          },
          "metadata": {
            "tags": [],
            "needs_background": "light"
          }
        },
        {
          "output_type": "display_data",
          "data": {
            "image/png": "[encoded data removed]",
            "text/plain": [
              "<Figure size 432x288 with 1 Axes>"
            ]
          },
          "metadata": {
            "tags": [],
            "needs_background": "light"
          }
        }
      ]
    },
    {
      "cell_type": "markdown",
      "metadata": {
        "id": "GtfzgsjPPzum",
        "colab_type": "text"
      },
      "source": [
        "### test데이터를 통한 모델의 정확도 검증\n",
        " 초기(08.01) : 0.72 (72%) 로 시작\\\n",
        " 마지막(08.15) : 0.86 (86%) 까지 증가"
      ]
    },
    {
      "cell_type": "code",
      "metadata": {
        "id": "alb4KnbiPzun",
        "colab_type": "code",
        "colab": {}
      },
      "source": [
        "test= pd.read_csv(io.BytesIO(uploaded['test.csv']))"
      ],
      "execution_count": null,
      "outputs": []
    },
    {
      "cell_type": "code",
      "metadata": {
        "id": "IIy7U2n2Pzuq",
        "colab_type": "code",
        "colab": {
          "base_uri": "https://localhost:8080/",
          "height": 721
        },
        "outputId": "c0407202-36dc-40c1-a68c-c9f9c2928199"
      },
      "source": [
        "bestmodel = keras.models.load_model('best_model1.h5')\n",
        "bestmodel.summary()"
      ],
      "execution_count": null,
      "outputs": [
        {
          "output_type": "stream",
          "text": [
            "Model: \"sequential_10\"\n",
            "_________________________________________________________________\n",
            "Layer (type)                 Output Shape              Param #   \n",
            "=================================================================\n",
            "conv2d_51 (Conv2D)           (None, 28, 28, 64)        640       \n",
            "_________________________________________________________________\n",
            "conv2d_52 (Conv2D)           (None, 28, 28, 64)        36928     \n",
            "_________________________________________________________________\n",
            "max_pooling2d_30 (MaxPooling (None, 14, 14, 64)        0         \n",
            "_________________________________________________________________\n",
            "dropout_23 (Dropout)         (None, 14, 14, 64)        0         \n",
            "_________________________________________________________________\n",
            "conv2d_53 (Conv2D)           (None, 14, 14, 64)        36928     \n",
            "_________________________________________________________________\n",
            "conv2d_54 (Conv2D)           (None, 14, 14, 64)        36928     \n",
            "_________________________________________________________________\n",
            "max_pooling2d_31 (MaxPooling (None, 7, 7, 64)          0         \n",
            "_________________________________________________________________\n",
            "dropout_24 (Dropout)         (None, 7, 7, 64)          0         \n",
            "_________________________________________________________________\n",
            "conv2d_55 (Conv2D)           (None, 7, 7, 128)         73856     \n",
            "_________________________________________________________________\n",
            "conv2d_56 (Conv2D)           (None, 7, 7, 128)         147584    \n",
            "_________________________________________________________________\n",
            "max_pooling2d_32 (MaxPooling (None, 3, 3, 128)         0         \n",
            "_________________________________________________________________\n",
            "dropout_25 (Dropout)         (None, 3, 3, 128)         0         \n",
            "_________________________________________________________________\n",
            "flatten_10 (Flatten)         (None, 1152)              0         \n",
            "_________________________________________________________________\n",
            "dense_22 (Dense)             (None, 128)               147584    \n",
            "_________________________________________________________________\n",
            "dense_23 (Dense)             (None, 64)                8256      \n",
            "_________________________________________________________________\n",
            "dense_24 (Dense)             (None, 10)                650       \n",
            "=================================================================\n",
            "Total params: 489,354\n",
            "Trainable params: 489,354\n",
            "Non-trainable params: 0\n",
            "_________________________________________________________________\n"
          ],
          "name": "stdout"
        }
      ]
    },
    {
      "cell_type": "code",
      "metadata": {
        "id": "L00uGO1qPzux",
        "colab_type": "code",
        "colab": {
          "base_uri": "https://localhost:8080/",
          "height": 52
        },
        "outputId": "5c2fb908-4191-4091-8e23-06f33f64a7be"
      },
      "source": [
        "x_test = np.array(test.iloc[:, 2:]).reshape(-1, 28, 28, 1).astype(np.float)\n",
        "x_test /= 255.\n",
        "print(x_test.shape)\n",
        "pred = bestmodel.predict(x_test)\n",
        "pred = np.argmax(pred, axis=1)\n",
        "print(pred.shape)"
      ],
      "execution_count": null,
      "outputs": [
        {
          "output_type": "stream",
          "text": [
            "(20480, 28, 28, 1)\n",
            "(20480,)\n"
          ],
          "name": "stdout"
        }
      ]
    },
    {
      "cell_type": "code",
      "metadata": {
        "id": "aHtgC3__Pzu1",
        "colab_type": "code",
        "colab": {
          "base_uri": "https://localhost:8080/",
          "height": 34
        },
        "outputId": "4a6e839a-c8cc-4beb-eaa5-9bfb93fe9fc6"
      },
      "source": [
        "pred"
      ],
      "execution_count": null,
      "outputs": [
        {
          "output_type": "execute_result",
          "data": {
            "text/plain": [
              "array([6, 8, 8, ..., 6, 3, 0])"
            ]
          },
          "metadata": {
            "tags": []
          },
          "execution_count": 88
        }
      ]
    },
    {
      "cell_type": "code",
      "metadata": {
        "id": "HgBGoVQLPzu5",
        "colab_type": "code",
        "colab": {}
      },
      "source": [
        "submission=pd.read_csv(\"C:\\\\Users\\\\Chunghun\\\\Desktop\\\\data\\\\submission.csv\",index_col=0)"
      ],
      "execution_count": null,
      "outputs": []
    },
    {
      "cell_type": "code",
      "metadata": {
        "id": "3z0BzRb7Pzu8",
        "colab_type": "code",
        "colab": {}
      },
      "source": [
        "submission.digit = pred\n",
        "submission.head()"
      ],
      "execution_count": null,
      "outputs": []
    },
    {
      "cell_type": "code",
      "metadata": {
        "id": "G-pFutsuPzu_",
        "colab_type": "code",
        "colab": {}
      },
      "source": [
        "submission.to_csv(\"C:\\\\Users\\\\Chunghun\\\\Desktop\\\\data\\\\submission1.csv\")"
      ],
      "execution_count": null,
      "outputs": []
    },
    {
      "cell_type": "markdown",
      "metadata": {
        "id": "H_iEafoRPzvC",
        "colab_type": "text"
      },
      "source": [
        "#### 이전 좋은 정확도를 보여줬던 모델들의 형태 기록 및 갱신\n",
        "- 앙상블을 통한 Voting 이 좋은 정확도를 보여줬었음"
      ]
    },
    {
      "cell_type": "code",
      "metadata": {
        "scrolled": true,
        "id": "IHgfdcoiPzvD",
        "colab_type": "code",
        "colab": {}
      },
      "source": [
        "'''\n",
        "#best model5 = adam #val_accuracy = 0.8098 # batch size=32\n",
        "model = keras.Sequential()\n",
        "model.add(layers.Conv2D(32, kernel_size=3,padding='same', activation='relu',\n",
        "                        input_shape=x_train.shape[1:]))\n",
        "model.add(layers.MaxPooling2D((2,2)))\n",
        "model.add(layers.Conv2D(64, kernel_size=3,padding='same', activation='relu'))\n",
        "model.add(layers.MaxPooling2D((2,2)))\n",
        "model.add(layers.Conv2D(128, kernel_size=3,padding='valid', activation='relu'))\n",
        "model.add(layers.MaxPooling2D((2,2)))\n",
        "model.add(layers.Dropout(0.1))\n",
        "model.add(layers.Flatten())\n",
        "model.add(layers.Dense(512, activation='relu'))\n",
        "model.add(layers.Dense(256, activation='relu'))\n",
        "model.add(layers.Dense(128, activation='relu'))\n",
        "model.add(layers.Dense(y_train.shape[1], activation='softmax'))\n",
        "model.summary()\n",
        "\n",
        "#best model1= adam \n",
        "Epoch 90/300\n",
        "51/51 - 2s - loss: 0.4684 - accuracy: 0.8275 - val_loss: 0.4848 - val_accuracy: 0.8683\n",
        "model = keras.Sequential()\n",
        "model.add(layers.Conv2D(32, kernel_size=3,padding='same', activation='relu',\n",
        "                        input_shape=x_train.shape[1:]))\n",
        "model.add(layers.MaxPooling2D((2,2)))\n",
        "model.add(layers.Conv2D(64, kernel_size=3,padding='same', activation='relu'))\n",
        "model.add(layers.MaxPooling2D((2,2)))\n",
        "model.add(layers.Conv2D(128, kernel_size=3,padding='same', activation='relu'))\n",
        "model.add(layers.MaxPooling2D((2,2)))\n",
        "model.add(layers.Dropout(0.5))\n",
        "model.add(layers.Flatten())\n",
        "model.add(layers.Dense(512, activation='relu'))\n",
        "model.add(layers.Dense(256, activation='relu'))\n",
        "model.add(layers.Dense(128, activation='relu'))\n",
        "model.add(layers.Dense(y_train.shape[1], activation='softmax'))\n",
        "model.summary()\n",
        "\n",
        "'''\n",
        "\n"
      ],
      "execution_count": null,
      "outputs": []
    },
    {
      "cell_type": "code",
      "metadata": {
        "id": "a0q7MbDiPzvG",
        "colab_type": "code",
        "colab": {}
      },
      "source": [
        ""
      ],
      "execution_count": null,
      "outputs": []
    }
  ]
}